{
 "cells": [
  {
   "attachments": {},
   "cell_type": "markdown",
   "metadata": {},
   "source": [
    "# Solution of a simple truss by FEM using SolidsPy\n",
    "\n",
    "© 2023 Daniel F. Ruiz, Exneyder A. Montoya-Araque and Universidad EAFIT.\n",
    "\n",
    "This notebook is a modified and extended version of the [original one](https://github.com/AppliedMechanics-EAFIT/SolidsPy/blob/master/examples/simple_truss/simple_truss.ipynb) by Guarín-Zapata and Gómez in the   [SolidsPy repo](https://github.com/AppliedMechanics-EAFIT/SolidsPy).\n",
    "\n",
    "This notebook can be interactively run in [Google - Colab](https://colab.research.google.com/github/AppliedMechanics-EAFIT/EAFIT_solid_mechanics/blob/main/notebooks/simple_truss.ipynb).\n",
    "\n",
    "> Note: Be aware that this notebook follows solid mechanics sign conventions → Tractions are positive, compressions are negative, and shear forces/stresses are positive when they act on the positive $x$-plane and point to the positive $y$-direction.\n",
    "\n",
    "This notebook depends on:\n",
    "* SolidsPy V1.0.16 [Guarín-Zapata et al. (2020)](https://doi.org/10.5281/zenodo.4029270)\n",
    "* And other packages for general scientific programming in Python\n"
   ]
  },
  {
   "attachments": {},
   "cell_type": "markdown",
   "metadata": {},
   "source": [
    "## Setting up the environment"
   ]
  },
  {
   "attachments": {},
   "cell_type": "markdown",
   "metadata": {},
   "source": [
    "### Required modules and setup for plots"
   ]
  },
  {
   "cell_type": "code",
   "execution_count": 1,
   "metadata": {},
   "outputs": [],
   "source": [
    "from IPython import get_ipython\n",
    "if 'google.colab' in str(get_ipython()):\n",
    "    from google.colab import output\n",
    "    output.enable_custom_widget_manager()\n",
    "    print('Running on CoLab. Installing the required modules...')\n",
    "    !apt-get update -qq && apt-get install -y libglu1-mesa -y &> ~/apt-log.txt\n",
    "    %pip install solidspy==1.0.16 &> ~/pip-log.txt\n",
    "    %pip install ipympl &> ~/pip-log.txt &> ~/pip-log.txt\n",
    "\n",
    "import numpy as np\n",
    "import pandas as pd\n",
    "import matplotlib.pyplot as plt\n",
    "import matplotlib as mpl\n",
    "from matplotlib.ticker import MaxNLocator\n",
    "from ipywidgets import widgets as wgt\n",
    "import solidspy.preprocesor as pre\n",
    "import solidspy.postprocesor as pos\n",
    "import solidspy.assemutil as ass\n",
    "import solidspy.solutil as sol\n",
    "import solidspy.uelutil as uel\n",
    "from IPython.display import display\n",
    "\n",
    "%matplotlib widget\n",
    "\n",
    "plt.style.use(\"default\")\n",
    "mpl.rcParams.update(\n",
    "    {\n",
    "        'figure.constrained_layout.use': True,\n",
    "        'interactive': False,\n",
    "        \"text.usetex\": False,  # Use mathtext, not LaTeX\n",
    "        \"font.family\": \"cmr10\",  # Use the Computer modern font\n",
    "        \"mathtext.fontset\": \"cm\",\n",
    "        \"axes.formatter.use_mathtext\": True,\n",
    "        \"axes.unicode_minus\": False,\n",
    "    }\n",
    ")\n",
    "html_setup = '<style> div.jupyter-widgets.widget-label {display: none;} </style>'\n"
   ]
  },
  {
   "cell_type": "markdown",
   "metadata": {},
   "source": [
    "## SolidsPy's inputs"
   ]
  },
  {
   "cell_type": "markdown",
   "metadata": {},
   "source": [
    "<div style=\"background-color: white; padding: 10px;\">\n",
    "    <img src=\"../figs/simple_truss.svg\" height=\"400\" frameborder=\"0\" ></iframe>\n",
    "</div>"
   ]
  },
  {
   "cell_type": "markdown",
   "metadata": {},
   "source": [
    "### Global inputs"
   ]
  },
  {
   "cell_type": "code",
   "execution_count": 2,
   "metadata": {},
   "outputs": [],
   "source": [
    "# Geometry\n",
    "l1 = 10  # [m]\n",
    "l2 = 5  # [m]\n",
    "l0 = l1*np.cos(np.deg2rad(30))  # [m]\n",
    "A = 1e-2  # Cross-sectional area of the bars [m]\n",
    "\n",
    "# Material properties\n",
    "elastic_mod = 1e6  # [N]\n",
    "\n",
    "# Loads\n",
    "load = -10  # [N]\n"
   ]
  },
  {
   "cell_type": "markdown",
   "metadata": {},
   "source": [
    "### Nodes\n",
    "\n",
    "**Notes:**\n",
    "- Global coordinates with origin in the bottom left corner of the truss, i.e., at node 2.\n",
    "- For defining constraints, -1 means constrained, and 0 is unconstrained."
   ]
  },
  {
   "cell_type": "code",
   "execution_count": 3,
   "metadata": {},
   "outputs": [
    {
     "data": {
      "text/html": [
       "<div>\n",
       "<style scoped>\n",
       "    .dataframe tbody tr th:only-of-type {\n",
       "        vertical-align: middle;\n",
       "    }\n",
       "\n",
       "    .dataframe tbody tr th {\n",
       "        vertical-align: top;\n",
       "    }\n",
       "\n",
       "    .dataframe thead th {\n",
       "        text-align: right;\n",
       "    }\n",
       "</style>\n",
       "<table border=\"1\" class=\"dataframe\">\n",
       "  <thead>\n",
       "    <tr style=\"text-align: right;\">\n",
       "      <th></th>\n",
       "      <th>node_id</th>\n",
       "      <th>coord_x</th>\n",
       "      <th>coord_y</th>\n",
       "      <th>cons_x</th>\n",
       "      <th>cons_y</th>\n",
       "    </tr>\n",
       "  </thead>\n",
       "  <tbody>\n",
       "    <tr>\n",
       "      <th>0</th>\n",
       "      <td>0</td>\n",
       "      <td>8.660254</td>\n",
       "      <td>0</td>\n",
       "      <td>0</td>\n",
       "      <td>0</td>\n",
       "    </tr>\n",
       "    <tr>\n",
       "      <th>1</th>\n",
       "      <td>1</td>\n",
       "      <td>0.000000</td>\n",
       "      <td>5</td>\n",
       "      <td>-1</td>\n",
       "      <td>0</td>\n",
       "    </tr>\n",
       "    <tr>\n",
       "      <th>2</th>\n",
       "      <td>2</td>\n",
       "      <td>0.000000</td>\n",
       "      <td>0</td>\n",
       "      <td>-1</td>\n",
       "      <td>-1</td>\n",
       "    </tr>\n",
       "  </tbody>\n",
       "</table>\n",
       "</div>"
      ],
      "text/plain": [
       "   node_id   coord_x  coord_y  cons_x  cons_y\n",
       "0        0  8.660254        0       0       0\n",
       "1        1  0.000000        5      -1       0\n",
       "2        2  0.000000        0      -1      -1"
      ]
     },
     "execution_count": 3,
     "metadata": {},
     "output_type": "execute_result"
    }
   ],
   "source": [
    "nodes = pd.DataFrame(\n",
    "    {\n",
    "    'node_id': (0, 1, 2),\n",
    "    'coord_x': (l0, 0, 0),\n",
    "    'coord_y': (0, l2, 0),\n",
    "    'cons_x': (0, -1, -1),\n",
    "    'cons_y': (0, 0, -1)\n",
    "    }\n",
    ")\n",
    "nodes\n"
   ]
  },
  {
   "cell_type": "markdown",
   "metadata": {},
   "source": [
    "### Materials\n",
    "All the bars are made of the same material and cross-sectional area. However, assigning different materials and cross-sectional areas for each bar in the code below is possible."
   ]
  },
  {
   "cell_type": "code",
   "execution_count": 4,
   "metadata": {},
   "outputs": [
    {
     "data": {
      "text/html": [
       "<div>\n",
       "<style scoped>\n",
       "    .dataframe tbody tr th:only-of-type {\n",
       "        vertical-align: middle;\n",
       "    }\n",
       "\n",
       "    .dataframe tbody tr th {\n",
       "        vertical-align: top;\n",
       "    }\n",
       "\n",
       "    .dataframe thead th {\n",
       "        text-align: right;\n",
       "    }\n",
       "</style>\n",
       "<table border=\"1\" class=\"dataframe\">\n",
       "  <thead>\n",
       "    <tr style=\"text-align: right;\">\n",
       "      <th></th>\n",
       "      <th>elem_id</th>\n",
       "      <th>elast_mod</th>\n",
       "      <th>area</th>\n",
       "    </tr>\n",
       "  </thead>\n",
       "  <tbody>\n",
       "    <tr>\n",
       "      <th>0</th>\n",
       "      <td>0</td>\n",
       "      <td>1000000.0</td>\n",
       "      <td>0.01</td>\n",
       "    </tr>\n",
       "    <tr>\n",
       "      <th>1</th>\n",
       "      <td>1</td>\n",
       "      <td>1000000.0</td>\n",
       "      <td>0.01</td>\n",
       "    </tr>\n",
       "    <tr>\n",
       "      <th>2</th>\n",
       "      <td>2</td>\n",
       "      <td>1000000.0</td>\n",
       "      <td>0.01</td>\n",
       "    </tr>\n",
       "  </tbody>\n",
       "</table>\n",
       "</div>"
      ],
      "text/plain": [
       "   elem_id  elast_mod  area\n",
       "0        0  1000000.0  0.01\n",
       "1        1  1000000.0  0.01\n",
       "2        2  1000000.0  0.01"
      ]
     },
     "execution_count": 4,
     "metadata": {},
     "output_type": "execute_result"
    }
   ],
   "source": [
    "mats = pd.DataFrame(\n",
    "    {\n",
    "    'elem_id': (0, 1, 2),\n",
    "    'elast_mod': (elastic_mod, elastic_mod, elastic_mod),\n",
    "    'area': (A, A, A)\n",
    "    }\n",
    ")\n",
    "mats\n"
   ]
  },
  {
   "cell_type": "markdown",
   "metadata": {},
   "source": [
    "### Elements conectivity"
   ]
  },
  {
   "cell_type": "code",
   "execution_count": 5,
   "metadata": {},
   "outputs": [
    {
     "data": {
      "text/html": [
       "<div>\n",
       "<style scoped>\n",
       "    .dataframe tbody tr th:only-of-type {\n",
       "        vertical-align: middle;\n",
       "    }\n",
       "\n",
       "    .dataframe tbody tr th {\n",
       "        vertical-align: top;\n",
       "    }\n",
       "\n",
       "    .dataframe thead th {\n",
       "        text-align: right;\n",
       "    }\n",
       "</style>\n",
       "<table border=\"1\" class=\"dataframe\">\n",
       "  <thead>\n",
       "    <tr style=\"text-align: right;\">\n",
       "      <th></th>\n",
       "      <th>elem_id</th>\n",
       "      <th>elem_type</th>\n",
       "      <th>mat_profile</th>\n",
       "      <th>elem_ini</th>\n",
       "      <th>elem_end</th>\n",
       "    </tr>\n",
       "  </thead>\n",
       "  <tbody>\n",
       "    <tr>\n",
       "      <th>0</th>\n",
       "      <td>0</td>\n",
       "      <td>6</td>\n",
       "      <td>0</td>\n",
       "      <td>2</td>\n",
       "      <td>0</td>\n",
       "    </tr>\n",
       "    <tr>\n",
       "      <th>1</th>\n",
       "      <td>1</td>\n",
       "      <td>6</td>\n",
       "      <td>1</td>\n",
       "      <td>0</td>\n",
       "      <td>1</td>\n",
       "    </tr>\n",
       "    <tr>\n",
       "      <th>2</th>\n",
       "      <td>2</td>\n",
       "      <td>6</td>\n",
       "      <td>2</td>\n",
       "      <td>1</td>\n",
       "      <td>2</td>\n",
       "    </tr>\n",
       "  </tbody>\n",
       "</table>\n",
       "</div>"
      ],
      "text/plain": [
       "   elem_id  elem_type  mat_profile  elem_ini  elem_end\n",
       "0        0          6            0         2         0\n",
       "1        1          6            1         0         1\n",
       "2        2          6            2         1         2"
      ]
     },
     "execution_count": 5,
     "metadata": {},
     "output_type": "execute_result"
    }
   ],
   "source": [
    "elems = pd.DataFrame(\n",
    "    {\n",
    "    'elem_id': (0, 1, 2),\n",
    "    'elem_type': (6, 6, 6),\n",
    "    'mat_profile': (0, 1, 2),\n",
    "    'elem_ini': (2, 0, 1),\n",
    "    'elem_end': (0, 1, 2),\n",
    "    }\n",
    ")\n",
    "elems\n"
   ]
  },
  {
   "cell_type": "markdown",
   "metadata": {},
   "source": [
    "### Loads"
   ]
  },
  {
   "cell_type": "code",
   "execution_count": 6,
   "metadata": {},
   "outputs": [
    {
     "data": {
      "text/html": [
       "<div>\n",
       "<style scoped>\n",
       "    .dataframe tbody tr th:only-of-type {\n",
       "        vertical-align: middle;\n",
       "    }\n",
       "\n",
       "    .dataframe tbody tr th {\n",
       "        vertical-align: top;\n",
       "    }\n",
       "\n",
       "    .dataframe thead th {\n",
       "        text-align: right;\n",
       "    }\n",
       "</style>\n",
       "<table border=\"1\" class=\"dataframe\">\n",
       "  <thead>\n",
       "    <tr style=\"text-align: right;\">\n",
       "      <th></th>\n",
       "      <th>node_id</th>\n",
       "      <th>force_x</th>\n",
       "      <th>force_y</th>\n",
       "    </tr>\n",
       "  </thead>\n",
       "  <tbody>\n",
       "    <tr>\n",
       "      <th>0</th>\n",
       "      <td>0</td>\n",
       "      <td>0</td>\n",
       "      <td>-10</td>\n",
       "    </tr>\n",
       "  </tbody>\n",
       "</table>\n",
       "</div>"
      ],
      "text/plain": [
       "   node_id  force_x  force_y\n",
       "0        0        0      -10"
      ]
     },
     "execution_count": 6,
     "metadata": {},
     "output_type": "execute_result"
    }
   ],
   "source": [
    "loads = pd.DataFrame(\n",
    "    {\n",
    "    'node_id': (0,),\n",
    "    'force_x': (0,),\n",
    "    'force_y': (load,)\n",
    "    }\n",
    ")\n",
    "loads\n"
   ]
  },
  {
   "cell_type": "code",
   "execution_count": 7,
   "metadata": {},
   "outputs": [],
   "source": [
    "# Inputs to arrays\n",
    "nodes = nodes.to_numpy()\n",
    "mats = mats.to_numpy()[:, 1:]\n",
    "elems = elems.to_numpy()\n",
    "loads = loads.to_numpy()\n"
   ]
  },
  {
   "cell_type": "markdown",
   "metadata": {},
   "source": [
    "## Local stifness matrices"
   ]
  },
  {
   "cell_type": "markdown",
   "metadata": {},
   "source": [
    "For the problem at hand, the local stiffness matrix for each element $K_i$ is given by:\n",
    "\n",
    "$$K_0 = \\frac{2000}{\\sqrt{3}}\\begin{bmatrix}\n",
    "1 &0 &-1 &0\\\\\n",
    "0 &0 &0 &0\\\\\n",
    "1 &0 &-1 &0\\\\\n",
    "0 &0 &0 &0\\end{bmatrix}$$\n",
    "\n",
    "$$K_1 = 250\\begin{bmatrix}\n",
    "3 &-\\sqrt{3} &-3 &\\sqrt{3}\\\\\n",
    "\\sqrt{3} &1 &\\sqrt{3} &-1\\\\\n",
    "-3 &\\sqrt{3} &3 &-\\sqrt{3}\\\\\n",
    "\\sqrt{3} &-1 &-\\sqrt{3} &1\\end{bmatrix}$$\n",
    "\n",
    "$$K_2 = 2000\\begin{bmatrix}\n",
    "0 &0 &0 &0\\\\\n",
    "0 &1 &0 &1\\\\\n",
    "0 &0 &0 &0\\\\\n",
    "0 &-1 &0 &1\\end{bmatrix}$$\n",
    "\n",
    "This can be double-checked by using SolidsPy:"
   ]
  },
  {
   "cell_type": "code",
   "execution_count": 8,
   "metadata": {},
   "outputs": [
    {
     "name": "stdout",
     "output_type": "stream",
     "text": [
      "Element 0 -- K (local)\n",
      "[[ 1155.     0. -1155.     0.]\n",
      " [    0.     0.     0.     0.]\n",
      " [-1155.     0.  1155.     0.]\n",
      " [    0.     0.     0.     0.]]\n",
      "\n",
      "Element 1 -- K (local)\n",
      "[[ 750. -433. -750.  433.]\n",
      " [-433.  250.  433. -250.]\n",
      " [-750.  433.  750. -433.]\n",
      " [ 433. -250. -433.  250.]]\n",
      "\n",
      "Element 2 -- K (local)\n",
      "[[    0.     0.     0.     0.]\n",
      " [    0.  2000.     0. -2000.]\n",
      " [    0.     0.     0.     0.]\n",
      " [    0. -2000.     0.  2000.]]\n",
      "\n"
     ]
    }
   ],
   "source": [
    "for el in range(3):\n",
    "    coords = nodes[elems[el, 3:], 1:3]\n",
    "    E, A = mats[el]\n",
    "    # print(coords, E, A, sep=\"\\n\", end=\"\\n\\n\")\n",
    "    K_local = uel.ueltruss2D(coords, A, E)\n",
    "    print(f\"Element {el} -- K (local)\", np.round(K_local), sep=\"\\n\", end=\"\\n\\n\")\n"
   ]
  },
  {
   "cell_type": "markdown",
   "metadata": {},
   "source": [
    "## Global stiffness matrix"
   ]
  },
  {
   "cell_type": "markdown",
   "metadata": {},
   "source": [
    "### Unconstrained matrix\n",
    "\n",
    "\n",
    "$$K_\\text{total} = 250 \\begin{bmatrix}\n",
    "\\frac{8}{\\sqrt{3}} + 3 &-\\sqrt{3} &3 &\\sqrt{3} &-\\frac{8}{\\sqrt{3}} &0\\\\\n",
    "-\\sqrt{3} &1 &\\sqrt{3} &-1 &0 &0\\\\\n",
    "3 &\\sqrt{3} &3 &-\\sqrt{3} &0 &0\\\\\n",
    "\\sqrt{3} &-1 &-\\sqrt{3} &9 &0 &-8\\\\\n",
    "-\\frac{8}{\\sqrt{3}} &0 &0 &0 &\\frac{8}{\\sqrt{3}} &0\\\\\n",
    "0 &0 &0 &-8 &0 &8\n",
    "\\end{bmatrix}$$\n"
   ]
  },
  {
   "cell_type": "code",
   "execution_count": 9,
   "metadata": {},
   "outputs": [
    {
     "name": "stdout",
     "output_type": "stream",
     "text": [
      "[[ 1905.  -433.  -750.   433. -1155.     0.]\n",
      " [ -433.   250.   433.  -250.     0.     0.]\n",
      " [ -750.   433.   750.  -433.     0.     0.]\n",
      " [  433.  -250.  -433.  2250.     0. -2000.]\n",
      " [-1155.     0.     0.     0.  1155.     0.]\n",
      " [    0.     0.     0. -2000.     0.  2000.]]\n"
     ]
    }
   ],
   "source": [
    "# Create a unconstrained nodes array\n",
    "nodes_uncon = nodes.copy()\n",
    "nodes_uncon[:, 3:] = 0  # Remember that zero means unconstrained\n",
    "\n",
    "# Get the assembly operator, boundary conditions array and No. of active equations in the system\n",
    "DME , IBC , neq = ass.DME(nodes_uncon, elems)\n",
    "\n",
    "# Assambly the global unconstrained stiffness matrix\n",
    "K_global_uncon = ass.assembler(elems, mats, nodes_uncon, neq, DME, sparse=False)\n",
    "print(np.round(K_global_uncon))\n"
   ]
  },
  {
   "cell_type": "markdown",
   "metadata": {},
   "source": [
    "### Constrained matrix\n",
    "\n",
    "$$K_\\text{total}^\\text{cons} = 250 \\begin{bmatrix}\n",
    "\\frac{8}{\\sqrt{3}} + 3 &-\\sqrt{3} &\\sqrt{3}\\\\\n",
    "-\\sqrt{3} &1  &-1 \\\\\n",
    "\\sqrt{3} &-1 &9\\\\\n",
    "\\end{bmatrix}$$\n"
   ]
  },
  {
   "cell_type": "code",
   "execution_count": 10,
   "metadata": {},
   "outputs": [
    {
     "name": "stdout",
     "output_type": "stream",
     "text": [
      "[[1905. -433.  433.]\n",
      " [-433.  250. -250.]\n",
      " [ 433. -250. 2250.]]\n"
     ]
    }
   ],
   "source": [
    "# Get the assembly operator, boundary conditions array and No. of active equations in the system\n",
    "DME , IBC , neq = ass.DME(nodes, elems)\n",
    "# Assemble the global unconstrained stiffness matrix\n",
    "K_global = ass.assembler(elems, mats, nodes, neq, DME, sparse=False)\n",
    "print(np.round(K_global))\n"
   ]
  },
  {
   "cell_type": "markdown",
   "metadata": {},
   "source": [
    "### Right-hand-side (rhs) vector of the equation to solve"
   ]
  },
  {
   "cell_type": "code",
   "execution_count": 11,
   "metadata": {},
   "outputs": [
    {
     "name": "stdout",
     "output_type": "stream",
     "text": [
      "[  0. -10.   0.]\n"
     ]
    }
   ],
   "source": [
    "# Assemble the right-hand-side vector of the equation\n",
    "load_vec = ass.loadasem(loads, IBC, neq)\n",
    "print(load_vec)\n"
   ]
  },
  {
   "cell_type": "markdown",
   "metadata": {},
   "source": [
    "## Solve the system of equations"
   ]
  },
  {
   "cell_type": "code",
   "execution_count": 12,
   "metadata": {},
   "outputs": [
    {
     "name": "stdout",
     "output_type": "stream",
     "text": [
      "[-0.015      -0.07098076 -0.005     ]\n"
     ]
    }
   ],
   "source": [
    "# Solve a static problem [mat]{u_sol} = {rhs}\n",
    "disp_ = sol.static_sol(K_global, load_vec)\n",
    "print(disp_)\n"
   ]
  },
  {
   "cell_type": "code",
   "execution_count": 13,
   "metadata": {},
   "outputs": [
    {
     "name": "stdout",
     "output_type": "stream",
     "text": [
      "[[-0.015      -0.07098076]\n",
      " [ 0.         -0.005     ]\n",
      " [ 0.          0.        ]]\n"
     ]
    }
   ],
   "source": [
    "# Complete the displacement vectors with imposed and computed values\n",
    "disp = pos.complete_disp(IBC, nodes, disp_)\n",
    "print(disp)\n"
   ]
  },
  {
   "cell_type": "markdown",
   "metadata": {},
   "source": [
    "## Visualize the results"
   ]
  },
  {
   "cell_type": "code",
   "execution_count": 14,
   "metadata": {},
   "outputs": [],
   "source": [
    "def plot_def_undef_truss(loads, nodes, disp, xfactor=5, widget=False, **kwargs):\n",
    "    figsize = kwargs.get('figsize', [6.5, 4])\n",
    "    x_node, y_node = nodes[:, 1:3].T\n",
    "    x_def, y_def = nodes[:, 1:3].T + xfactor * disp.T\n",
    "    x_node = np.hstack((x_node, x_node[0]))\n",
    "    y_node = np.hstack((y_node, y_node[0]))\n",
    "    x_def = np.hstack((x_def, x_def[0]))\n",
    "    y_def = np.hstack((y_def, y_def[0]))\n",
    "    fig, ax = plt.subplots(ncols=1, nrows=1, figsize=figsize, layout='constrained')\n",
    "    # Cosntraints\n",
    "    x_res, y_res = nodes[1:, 1:3].T\n",
    "    ax.plot(x_res, y_res, ls=\"\", marker=5, ms=10, c='k', fillstyle='full')\n",
    "    x_res, y_res = nodes[2:, 1:3].T\n",
    "    ax.plot(x_res, y_res, ls=\"\", marker=6, ms=10, c='k', fillstyle='full')\n",
    "    # Truss\n",
    "    ax.plot(x_node, y_node, ls=\"-\", marker=\".\", lw=1.5, ms=7, c=\"b\",\n",
    "            label='Undeformed truss')\n",
    "    ax.plot(x_def, y_def, ls=\"--\", marker='o', lw=1.5, ms=7, c=\"r\", fillstyle='none',\n",
    "            label=f'Deformed truss ({xfactor}x)')\n",
    "    # Node labels\n",
    "    dx, dy = .02 * (max(x_node) - min(x_node)), .04 * (max(y_node) - min(y_node))\n",
    "    for i, (x, y) in enumerate(zip(x_node[:-1], y_node[:-1])):\n",
    "        txt = ax.text(x+dx, y+dy,  f'({x_node[i]:.3f}, {y_node[i]:.3f})\\n', c='b')\n",
    "        ax.annotate(f'({x_def[i]:.3f}, {y_def[i]:.3f})', c='r', xycoords=txt, xy=(0, 0),\n",
    "                    verticalalignment=\"bottom\")\n",
    "    # ax.text(x_node[0], y_node[0], f'({x_node[0]:.2f}, {y_node[0]:.2f})', c='b')\n",
    "    # Load\n",
    "    x_load, y_load = nodes[0][1:3]\n",
    "    dy = .2 * (max(y_node) - min(y_node))\n",
    "    if loads[0, -1] > 0:\n",
    "        dy *= -1\n",
    "    ax.arrow(x_load, y_load+dy, dx=0, dy=-dy, width=.05,  fc='k', ec='k',\n",
    "             length_includes_head=True)\n",
    "    # Format\n",
    "    # ax.legend(loc='center left', bbox_to_anchor=(1, 0.5), title=kwargs.get('title'))\n",
    "    ax.legend(loc='best')\n",
    "    ax.axis(\"image\")\n",
    "    ax.set(xlabel='$x$  [m]', ylabel='$y$  [m]')\n",
    "    ax.spines[['right', 'top']].set_visible(False)\n",
    "    if widget:\n",
    "        display(fig)\n",
    "    else:\n",
    "        plt.show()\n",
    "        display(wgt.HTML(html_setup))\n",
    "    plt.close()\n",
    "    return\n"
   ]
  },
  {
   "cell_type": "code",
   "execution_count": 15,
   "metadata": {},
   "outputs": [
    {
     "data": {
      "application/vnd.jupyter.widget-view+json": {
       "model_id": "5ac16116207541eeb338ac06c68ebbb5",
       "version_major": 2,
       "version_minor": 0
      },
      "image/png": "[encoded data removed]",
      "text/html": [
       "\n",
       "            <div style=\"display: inline-block;\">\n",
       "                <div class=\"jupyter-widgets widget-label\" style=\"text-align: center;\">\n",
       "                    Figure\n",
       "                </div>\n",
       "                <img src='data:image/png;base64,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' width=650.0/>\n",
       "            </div>\n",
       "        "
      ],
      "text/plain": [
       "Canvas(toolbar=Toolbar(toolitems=[('Home', 'Reset original view', 'home', 'home'), ('Back', 'Back to previous …"
      ]
     },
     "metadata": {},
     "output_type": "display_data"
    },
    {
     "data": {
      "application/vnd.jupyter.widget-view+json": {
       "model_id": "7a1242b2e85242c8869884ec4f180938",
       "version_major": 2,
       "version_minor": 0
      },
      "text/plain": [
       "HTML(value='<style> div.jupyter-widgets.widget-label {display: none;} </style>')"
      ]
     },
     "metadata": {},
     "output_type": "display_data"
    }
   ],
   "source": [
    "plot_def_undef_truss(loads, nodes, disp)\n"
   ]
  },
  {
   "cell_type": "markdown",
   "metadata": {},
   "source": [
    "## Interactive plots"
   ]
  },
  {
   "cell_type": "code",
   "execution_count": 16,
   "metadata": {},
   "outputs": [],
   "source": [
    "def interactive_solution(l0, l2, A, load, E, xfactor=5, widget=False):\n",
    "    nodes = np.array([[0, l0, 0, 0, 0], [1, 0, l2, -1, 0], [2, 0, 0, -1, -1]])\n",
    "    mats = np.array([[0, E, A], [1, E, A], [2, E, A]])[:, 1:]\n",
    "    elems = np.array([[0, 6, 0, 2, 0], [1, 6, 1, 0, 1], [2, 6, 2, 1, 2]])\n",
    "    loads = np.array([[0, 0, load]])\n",
    "    # Get the assembly operator, boundary conditions array and No. of active equations in the system\n",
    "    DME , IBC , neq = ass.DME(nodes, elems)\n",
    "    # Assemble the global unconstrained stiffness matrix\n",
    "    K_global = ass.assembler(elems, mats, nodes, neq, DME, sparse=False)\n",
    "    # Assemble the right-hand-side vector of the equation\n",
    "    load_vec = ass.loadasem(loads, IBC, neq)\n",
    "    # Solve a static problem [mat]{u_sol} = {rhs}\n",
    "    disp_ = sol.static_sol(K_global, load_vec)\n",
    "    # Complete the displacement vectors with imposed and computed values\n",
    "    disp = pos.complete_disp(IBC, nodes, disp_)\n",
    "\n",
    "    # Plot\n",
    "    plot_def_undef_truss(loads, nodes, disp, xfactor=xfactor, widget=widget)\n",
    "\n",
    "# interactive_solution(l0, l2, A, load, E, xfactor=10)\n"
   ]
  },
  {
   "cell_type": "code",
   "execution_count": 17,
   "metadata": {},
   "outputs": [
    {
     "data": {
      "application/vnd.jupyter.widget-view+json": {
       "model_id": "67bfcc0756f14f7fac6a3ac05afdaa14",
       "version_major": 2,
       "version_minor": 0
      },
      "text/plain": [
       "HBox(children=(VBox(children=(FloatSlider(value=8.66, description='L0 [m]', layout=Layout(width='300px'), max=…"
      ]
     },
     "metadata": {},
     "output_type": "display_data"
    }
   ],
   "source": [
    "s, l = {'description_width': '50px'}, wgt.Layout(width='300px')\n",
    "controls = {\n",
    "    'l0': wgt.FloatSlider(value=8.66, min=.1, max=50, step=.5, description=\"L0 [m]\", style=s, layout=l),\n",
    "    'l2': wgt.FloatSlider(value=5.0, min=.1, max=50, step=.5, description=\"L2 [m]\", style=s, layout=l),\n",
    "    'A': wgt.FloatLogSlider(value=0.01, min=-5, max=1, step=.001, description=\"A [m²]\", style=s, layout=l),\n",
    "    'load': wgt.FloatSlider(value=-10, min=-100, max=100, step=1, description=\"Load [N]\", style=s, layout=l),\n",
    "    'E': wgt.FloatLogSlider(value=1e6, min=3, max=10, step=.1, description=\"E [Pa]\", style=s, layout=l),\n",
    "    'xfactor': wgt.FloatSlider(value=5, min=1, max=50, step=.1, description=\"x factor\", style=s, layout=l),\n",
    "    'widget': wgt.Checkbox(value=True, description='Check to improve widget performance', disabled=False, style=s, layout=l),\n",
    "}\n",
    "fig = wgt.interactive_output(interactive_solution, controls)\n",
    "wgt.HBox((wgt.VBox(list(controls.values())), fig), layout=wgt.Layout(align_items='center'))\n"
   ]
  }
 ],
 "metadata": {
  "kernelspec": {
   "display_name": "Python 3.9.13 64-bit ('solidspy-env')",
   "language": "python",
   "name": "python3"
  },
  "language_info": {
   "codemirror_mode": {
    "name": "ipython",
    "version": 3
   },
   "file_extension": ".py",
   "mimetype": "text/x-python",
   "name": "python",
   "nbconvert_exporter": "python",
   "pygments_lexer": "ipython3",
   "version": "3.9.17"
  },
  "orig_nbformat": 4,
  "vscode": {
   "interpreter": {
    "hash": "42b9ce97befeae958d128bfc8e8137711916479b07e20b35d801ac2885384ad7"
   }
  }
 },
 "nbformat": 4,
 "nbformat_minor": 2
}
