{
 "cells": [
  {
   "attachments": {},
   "cell_type": "markdown",
   "metadata": {},
   "source": [
    "# Solution of a simple truss by FEM using SolidsPy\n",
    "\n",
    "© 2023 Daniel F. Ruiz, Exneyder A. Montoya-Araque and Universidad EAFIT.\n",
    "\n",
    "This notebook is a modified and extended version of the [original one](https://github.com/AppliedMechanics-EAFIT/SolidsPy/blob/master/examples/simple_truss/simple_truss.ipynb) by Guarín-Zapata and Gómez in the   [SolidsPy repo](https://github.com/AppliedMechanics-EAFIT/SolidsPy).\n",
    "\n",
    "This notebook can be interactively run in [Google - Colab](https://colab.research.google.com/github/AppliedMechanics-EAFIT/EAFIT_solid_mechanics/blob/main/notebooks/simple_truss.ipynb).\n",
    "\n",
    "> Note: Be aware that this notebook follows solid mechanics sign conventions → Tractions are positive, compressions are negative, and shear forces/stresses are positive when they act on the positive $x$-plane and point to the positive $y$-direction.\n",
    "\n",
    "This notebook depends on:\n",
    "* SolidsPy V1.0.16 [Guarín-Zapata et al. (2020)](https://doi.org/10.5281/zenodo.4029270)\n",
    "* And other packages for general scientific programming in Python\n"
   ]
  },
  {
   "attachments": {},
   "cell_type": "markdown",
   "metadata": {},
   "source": [
    "## Setting up the environment"
   ]
  },
  {
   "attachments": {},
   "cell_type": "markdown",
   "metadata": {},
   "source": [
    "### Required modules and setup for plots"
   ]
  },
  {
   "cell_type": "code",
   "execution_count": 1,
   "metadata": {},
   "outputs": [],
   "source": [
    "from IPython import get_ipython\n",
    "if 'google.colab' in str(get_ipython()):\n",
    "    from google.colab import output\n",
    "    output.enable_custom_widget_manager()\n",
    "    print('Running on CoLab. Installing the required modules...')\n",
    "    !apt-get update -qq && apt-get install -y libglu1-mesa -y &> ~/apt-log.txt\n",
    "    %pip install solidspy==1.0.16 &> ~/pip-log.txt\n",
    "    %pip install ipympl &> ~/pip-log.txt &> ~/pip-log.txt\n",
    "\n",
    "import numpy as np\n",
    "import pandas as pd\n",
    "import matplotlib.pyplot as plt\n",
    "import matplotlib as mpl\n",
    "from matplotlib.ticker import MaxNLocator\n",
    "from ipywidgets import widgets as wgt\n",
    "import solidspy.preprocesor as pre\n",
    "import solidspy.postprocesor as pos\n",
    "import solidspy.assemutil as ass\n",
    "import solidspy.solutil as sol\n",
    "import solidspy.uelutil as uel\n",
    "from IPython.display import display\n",
    "\n",
    "%matplotlib widget\n",
    "\n",
    "plt.style.use(\"default\")\n",
    "mpl.rcParams.update(\n",
    "    {\n",
    "        'figure.constrained_layout.use': True,\n",
    "        'interactive': False,\n",
    "        \"text.usetex\": False,  # Use mathtext, not LaTeX\n",
    "        \"font.family\": \"cmr10\",  # Use the Computer modern font\n",
    "        \"mathtext.fontset\": \"cm\",\n",
    "        \"axes.formatter.use_mathtext\": True,\n",
    "        \"axes.unicode_minus\": False,\n",
    "    }\n",
    ")\n",
    "html_setup = '<style> div.jupyter-widgets.widget-label {display: none;} </style>'\n"
   ]
  },
  {
   "cell_type": "markdown",
   "metadata": {},
   "source": [
    "## SolidsPy's inputs"
   ]
  },
  {
   "cell_type": "markdown",
   "metadata": {},
   "source": [
    "<div style=\"background-color: white; padding: 10px;\">\n",
    "    <img src=\"../figs/simple_truss.svg\" height=\"400\" frameborder=\"0\" ></iframe>\n",
    "</div>"
   ]
  },
  {
   "cell_type": "markdown",
   "metadata": {},
   "source": [
    "### Global inputs"
   ]
  },
  {
   "cell_type": "code",
   "execution_count": 2,
   "metadata": {},
   "outputs": [],
   "source": [
    "# Geometry\n",
    "l1 = 10  # [m]\n",
    "l2 = 5  # [m]\n",
    "l0 = l1*np.cos(np.deg2rad(30))  # [m]\n",
    "A = 1e-2  # Cross-sectional area of the bars [m]\n",
    "\n",
    "# Material properties\n",
    "elastic_mod = 1e6  # [N]\n",
    "\n",
    "# Loads\n",
    "load = -10  # [N]\n"
   ]
  },
  {
   "cell_type": "markdown",
   "metadata": {},
   "source": [
    "### Nodes\n",
    "\n",
    "**Notes:**\n",
    "- Global coordinates with origin in the bottom left corner of the truss, i.e., at node 2.\n",
    "- For defining constraints, -1 means constrained, and 0 is unconstrained."
   ]
  },
  {
   "cell_type": "code",
   "execution_count": 3,
   "metadata": {},
   "outputs": [
    {
     "data": {
      "text/html": [
       "<div>\n",
       "<style scoped>\n",
       "    .dataframe tbody tr th:only-of-type {\n",
       "        vertical-align: middle;\n",
       "    }\n",
       "\n",
       "    .dataframe tbody tr th {\n",
       "        vertical-align: top;\n",
       "    }\n",
       "\n",
       "    .dataframe thead th {\n",
       "        text-align: right;\n",
       "    }\n",
       "</style>\n",
       "<table border=\"1\" class=\"dataframe\">\n",
       "  <thead>\n",
       "    <tr style=\"text-align: right;\">\n",
       "      <th></th>\n",
       "      <th>node_id</th>\n",
       "      <th>coord_x</th>\n",
       "      <th>coord_y</th>\n",
       "      <th>cons_x</th>\n",
       "      <th>cons_y</th>\n",
       "    </tr>\n",
       "  </thead>\n",
       "  <tbody>\n",
       "    <tr>\n",
       "      <th>0</th>\n",
       "      <td>0</td>\n",
       "      <td>8.660254</td>\n",
       "      <td>0</td>\n",
       "      <td>0</td>\n",
       "      <td>0</td>\n",
       "    </tr>\n",
       "    <tr>\n",
       "      <th>1</th>\n",
       "      <td>1</td>\n",
       "      <td>0.000000</td>\n",
       "      <td>5</td>\n",
       "      <td>-1</td>\n",
       "      <td>0</td>\n",
       "    </tr>\n",
       "    <tr>\n",
       "      <th>2</th>\n",
       "      <td>2</td>\n",
       "      <td>0.000000</td>\n",
       "      <td>0</td>\n",
       "      <td>-1</td>\n",
       "      <td>-1</td>\n",
       "    </tr>\n",
       "  </tbody>\n",
       "</table>\n",
       "</div>"
      ],
      "text/plain": [
       "   node_id   coord_x  coord_y  cons_x  cons_y\n",
       "0        0  8.660254        0       0       0\n",
       "1        1  0.000000        5      -1       0\n",
       "2        2  0.000000        0      -1      -1"
      ]
     },
     "execution_count": 3,
     "metadata": {},
     "output_type": "execute_result"
    }
   ],
   "source": [
    "nodes = pd.DataFrame(\n",
    "    {\n",
    "    'node_id': (0, 1, 2),\n",
    "    'coord_x': (l0, 0, 0),\n",
    "    'coord_y': (0, l2, 0),\n",
    "    'cons_x': (0, -1, -1),\n",
    "    'cons_y': (0, 0, -1)\n",
    "    }\n",
    ")\n",
    "nodes\n"
   ]
  },
  {
   "cell_type": "markdown",
   "metadata": {},
   "source": [
    "### Materials\n",
    "All the bars are made of the same material and cross-sectional area. However, assigning different materials and cross-sectional areas for each bar in the code below is possible."
   ]
  },
  {
   "cell_type": "code",
   "execution_count": 4,
   "metadata": {},
   "outputs": [
    {
     "data": {
      "text/html": [
       "<div>\n",
       "<style scoped>\n",
       "    .dataframe tbody tr th:only-of-type {\n",
       "        vertical-align: middle;\n",
       "    }\n",
       "\n",
       "    .dataframe tbody tr th {\n",
       "        vertical-align: top;\n",
       "    }\n",
       "\n",
       "    .dataframe thead th {\n",
       "        text-align: right;\n",
       "    }\n",
       "</style>\n",
       "<table border=\"1\" class=\"dataframe\">\n",
       "  <thead>\n",
       "    <tr style=\"text-align: right;\">\n",
       "      <th></th>\n",
       "      <th>elem_id</th>\n",
       "      <th>elast_mod</th>\n",
       "      <th>area</th>\n",
       "    </tr>\n",
       "  </thead>\n",
       "  <tbody>\n",
       "    <tr>\n",
       "      <th>0</th>\n",
       "      <td>0</td>\n",
       "      <td>1000000.0</td>\n",
       "      <td>0.01</td>\n",
       "    </tr>\n",
       "    <tr>\n",
       "      <th>1</th>\n",
       "      <td>1</td>\n",
       "      <td>1000000.0</td>\n",
       "      <td>0.01</td>\n",
       "    </tr>\n",
       "    <tr>\n",
       "      <th>2</th>\n",
       "      <td>2</td>\n",
       "      <td>1000000.0</td>\n",
       "      <td>0.01</td>\n",
       "    </tr>\n",
       "  </tbody>\n",
       "</table>\n",
       "</div>"
      ],
      "text/plain": [
       "   elem_id  elast_mod  area\n",
       "0        0  1000000.0  0.01\n",
       "1        1  1000000.0  0.01\n",
       "2        2  1000000.0  0.01"
      ]
     },
     "execution_count": 4,
     "metadata": {},
     "output_type": "execute_result"
    }
   ],
   "source": [
    "mats = pd.DataFrame(\n",
    "    {\n",
    "    'elem_id': (0, 1, 2),\n",
    "    'elast_mod': (elastic_mod, elastic_mod, elastic_mod),\n",
    "    'area': (A, A, A)\n",
    "    }\n",
    ")\n",
    "mats\n"
   ]
  },
  {
   "cell_type": "markdown",
   "metadata": {},
   "source": [
    "### Elements conectivity"
   ]
  },
  {
   "cell_type": "code",
   "execution_count": 5,
   "metadata": {},
   "outputs": [
    {
     "data": {
      "text/html": [
       "<div>\n",
       "<style scoped>\n",
       "    .dataframe tbody tr th:only-of-type {\n",
       "        vertical-align: middle;\n",
       "    }\n",
       "\n",
       "    .dataframe tbody tr th {\n",
       "        vertical-align: top;\n",
       "    }\n",
       "\n",
       "    .dataframe thead th {\n",
       "        text-align: right;\n",
       "    }\n",
       "</style>\n",
       "<table border=\"1\" class=\"dataframe\">\n",
       "  <thead>\n",
       "    <tr style=\"text-align: right;\">\n",
       "      <th></th>\n",
       "      <th>elem_id</th>\n",
       "      <th>elem_type</th>\n",
       "      <th>mat_profile</th>\n",
       "      <th>elem_ini</th>\n",
       "      <th>elem_end</th>\n",
       "    </tr>\n",
       "  </thead>\n",
       "  <tbody>\n",
       "    <tr>\n",
       "      <th>0</th>\n",
       "      <td>0</td>\n",
       "      <td>6</td>\n",
       "      <td>0</td>\n",
       "      <td>2</td>\n",
       "      <td>0</td>\n",
       "    </tr>\n",
       "    <tr>\n",
       "      <th>1</th>\n",
       "      <td>1</td>\n",
       "      <td>6</td>\n",
       "      <td>1</td>\n",
       "      <td>0</td>\n",
       "      <td>1</td>\n",
       "    </tr>\n",
       "    <tr>\n",
       "      <th>2</th>\n",
       "      <td>2</td>\n",
       "      <td>6</td>\n",
       "      <td>2</td>\n",
       "      <td>1</td>\n",
       "      <td>2</td>\n",
       "    </tr>\n",
       "  </tbody>\n",
       "</table>\n",
       "</div>"
      ],
      "text/plain": [
       "   elem_id  elem_type  mat_profile  elem_ini  elem_end\n",
       "0        0          6            0         2         0\n",
       "1        1          6            1         0         1\n",
       "2        2          6            2         1         2"
      ]
     },
     "execution_count": 5,
     "metadata": {},
     "output_type": "execute_result"
    }
   ],
   "source": [
    "elems = pd.DataFrame(\n",
    "    {\n",
    "    'elem_id': (0, 1, 2),\n",
    "    'elem_type': (6, 6, 6),\n",
    "    'mat_profile': (0, 1, 2),\n",
    "    'elem_ini': (2, 0, 1),\n",
    "    'elem_end': (0, 1, 2),\n",
    "    }\n",
    ")\n",
    "elems\n"
   ]
  },
  {
   "cell_type": "markdown",
   "metadata": {},
   "source": [
    "### Loads"
   ]
  },
  {
   "cell_type": "code",
   "execution_count": 6,
   "metadata": {},
   "outputs": [
    {
     "data": {
      "text/html": [
       "<div>\n",
       "<style scoped>\n",
       "    .dataframe tbody tr th:only-of-type {\n",
       "        vertical-align: middle;\n",
       "    }\n",
       "\n",
       "    .dataframe tbody tr th {\n",
       "        vertical-align: top;\n",
       "    }\n",
       "\n",
       "    .dataframe thead th {\n",
       "        text-align: right;\n",
       "    }\n",
       "</style>\n",
       "<table border=\"1\" class=\"dataframe\">\n",
       "  <thead>\n",
       "    <tr style=\"text-align: right;\">\n",
       "      <th></th>\n",
       "      <th>node_id</th>\n",
       "      <th>force_x</th>\n",
       "      <th>force_y</th>\n",
       "    </tr>\n",
       "  </thead>\n",
       "  <tbody>\n",
       "    <tr>\n",
       "      <th>0</th>\n",
       "      <td>0</td>\n",
       "      <td>0</td>\n",
       "      <td>-10</td>\n",
       "    </tr>\n",
       "  </tbody>\n",
       "</table>\n",
       "</div>"
      ],
      "text/plain": [
       "   node_id  force_x  force_y\n",
       "0        0        0      -10"
      ]
     },
     "execution_count": 6,
     "metadata": {},
     "output_type": "execute_result"
    }
   ],
   "source": [
    "loads = pd.DataFrame(\n",
    "    {\n",
    "    'node_id': (0,),\n",
    "    'force_x': (0,),\n",
    "    'force_y': (load,)\n",
    "    }\n",
    ")\n",
    "loads\n"
   ]
  },
  {
   "cell_type": "code",
   "execution_count": 7,
   "metadata": {},
   "outputs": [],
   "source": [
    "# Inputs to arrays\n",
    "nodes = nodes.to_numpy()\n",
    "mats = mats.to_numpy()[:, 1:]\n",
    "elems = elems.to_numpy()\n",
    "loads = loads.to_numpy()\n"
   ]
  },
  {
   "cell_type": "markdown",
   "metadata": {},
   "source": [
    "## Local stifness matrices"
   ]
  },
  {
   "cell_type": "markdown",
   "metadata": {},
   "source": [
    "For the problem at hand, the local stiffness matrix for each element $K_i$ is given by:\n",
    "\n",
    "$$K_0 = \\frac{2000}{\\sqrt{3}}\\begin{bmatrix}\n",
    "1 &0 &-1 &0\\\\\n",
    "0 &0 &0 &0\\\\\n",
    "1 &0 &-1 &0\\\\\n",
    "0 &0 &0 &0\\end{bmatrix}$$\n",
    "\n",
    "$$K_1 = 250\\begin{bmatrix}\n",
    "3 &-\\sqrt{3} &-3 &\\sqrt{3}\\\\\n",
    "\\sqrt{3} &1 &\\sqrt{3} &-1\\\\\n",
    "-3 &\\sqrt{3} &3 &-\\sqrt{3}\\\\\n",
    "\\sqrt{3} &-1 &-\\sqrt{3} &1\\end{bmatrix}$$\n",
    "\n",
    "$$K_2 = 2000\\begin{bmatrix}\n",
    "0 &0 &0 &0\\\\\n",
    "0 &1 &0 &1\\\\\n",
    "0 &0 &0 &0\\\\\n",
    "0 &-1 &0 &1\\end{bmatrix}$$\n",
    "\n",
    "This can be double-checked by using SolidsPy:"
   ]
  },
  {
   "cell_type": "code",
   "execution_count": 8,
   "metadata": {},
   "outputs": [
    {
     "name": "stdout",
     "output_type": "stream",
     "text": [
      "Element 0 -- K (local)\n",
      "[[ 1155.     0. -1155.     0.]\n",
      " [    0.     0.     0.     0.]\n",
      " [-1155.     0.  1155.     0.]\n",
      " [    0.     0.     0.     0.]]\n",
      "\n",
      "Element 1 -- K (local)\n",
      "[[ 750. -433. -750.  433.]\n",
      " [-433.  250.  433. -250.]\n",
      " [-750.  433.  750. -433.]\n",
      " [ 433. -250. -433.  250.]]\n",
      "\n",
      "Element 2 -- K (local)\n",
      "[[    0.     0.     0.     0.]\n",
      " [    0.  2000.     0. -2000.]\n",
      " [    0.     0.     0.     0.]\n",
      " [    0. -2000.     0.  2000.]]\n",
      "\n"
     ]
    }
   ],
   "source": [
    "for el in range(3):\n",
    "    coords = nodes[elems[el, 3:], 1:3]\n",
    "    E, A = mats[el]\n",
    "    # print(coords, E, A, sep=\"\\n\", end=\"\\n\\n\")\n",
    "    K_local = uel.ueltruss2D(coords, A, E)\n",
    "    print(f\"Element {el} -- K (local)\", np.round(K_local), sep=\"\\n\", end=\"\\n\\n\")\n"
   ]
  },
  {
   "cell_type": "markdown",
   "metadata": {},
   "source": [
    "## Global stiffness matrix"
   ]
  },
  {
   "cell_type": "markdown",
   "metadata": {},
   "source": [
    "### Unconstrained matrix\n",
    "\n",
    "\n",
    "$$K_\\text{total} = 250 \\begin{bmatrix}\n",
    "\\frac{8}{\\sqrt{3}} + 3 &-\\sqrt{3} &3 &\\sqrt{3} &-\\frac{8}{\\sqrt{3}} &0\\\\\n",
    "-\\sqrt{3} &1 &\\sqrt{3} &-1 &0 &0\\\\\n",
    "3 &\\sqrt{3} &3 &-\\sqrt{3} &0 &0\\\\\n",
    "\\sqrt{3} &-1 &-\\sqrt{3} &9 &0 &-8\\\\\n",
    "-\\frac{8}{\\sqrt{3}} &0 &0 &0 &\\frac{8}{\\sqrt{3}} &0\\\\\n",
    "0 &0 &0 &-8 &0 &8\n",
    "\\end{bmatrix}$$\n"
   ]
  },
  {
   "cell_type": "code",
   "execution_count": 9,
   "metadata": {},
   "outputs": [
    {
     "name": "stdout",
     "output_type": "stream",
     "text": [
      "[[ 1905.  -433.  -750.   433. -1155.     0.]\n",
      " [ -433.   250.   433.  -250.     0.     0.]\n",
      " [ -750.   433.   750.  -433.     0.     0.]\n",
      " [  433.  -250.  -433.  2250.     0. -2000.]\n",
      " [-1155.     0.     0.     0.  1155.     0.]\n",
      " [    0.     0.     0. -2000.     0.  2000.]]\n"
     ]
    }
   ],
   "source": [
    "# Create a unconstrained nodes array\n",
    "nodes_uncon = nodes.copy()\n",
    "nodes_uncon[:, 3:] = 0  # Remember that zero means unconstrained\n",
    "\n",
    "# Get the assembly operator, boundary conditions array and No. of active equations in the system\n",
    "DME , IBC , neq = ass.DME(nodes_uncon, elems)\n",
    "\n",
    "# Assambly the global unconstrained stiffness matrix\n",
    "K_global_uncon = ass.assembler(elems, mats, nodes_uncon, neq, DME, sparse=False)\n",
    "print(np.round(K_global_uncon))\n"
   ]
  },
  {
   "cell_type": "markdown",
   "metadata": {},
   "source": [
    "### Constrained matrix\n",
    "\n",
    "$$K_\\text{total}^\\text{cons} = 250 \\begin{bmatrix}\n",
    "\\frac{8}{\\sqrt{3}} + 3 &-\\sqrt{3} &\\sqrt{3}\\\\\n",
    "-\\sqrt{3} &1  &-1 \\\\\n",
    "\\sqrt{3} &-1 &9\\\\\n",
    "\\end{bmatrix}$$\n"
   ]
  },
  {
   "cell_type": "code",
   "execution_count": 10,
   "metadata": {},
   "outputs": [
    {
     "name": "stdout",
     "output_type": "stream",
     "text": [
      "[[1905. -433.  433.]\n",
      " [-433.  250. -250.]\n",
      " [ 433. -250. 2250.]]\n"
     ]
    }
   ],
   "source": [
    "# Get the assembly operator, boundary conditions array and No. of active equations in the system\n",
    "DME , IBC , neq = ass.DME(nodes, elems)\n",
    "# Assemble the global unconstrained stiffness matrix\n",
    "K_global = ass.assembler(elems, mats, nodes, neq, DME, sparse=False)\n",
    "print(np.round(K_global))\n"
   ]
  },
  {
   "cell_type": "markdown",
   "metadata": {},
   "source": [
    "### Right-hand-side (rhs) vector of the equation to solve"
   ]
  },
  {
   "cell_type": "code",
   "execution_count": 11,
   "metadata": {},
   "outputs": [
    {
     "name": "stdout",
     "output_type": "stream",
     "text": [
      "[  0. -10.   0.]\n"
     ]
    }
   ],
   "source": [
    "# Assemble the right-hand-side vector of the equation\n",
    "load_vec = ass.loadasem(loads, IBC, neq)\n",
    "print(load_vec)\n"
   ]
  },
  {
   "cell_type": "markdown",
   "metadata": {},
   "source": [
    "## Solve the system of equations"
   ]
  },
  {
   "cell_type": "code",
   "execution_count": 12,
   "metadata": {},
   "outputs": [
    {
     "name": "stdout",
     "output_type": "stream",
     "text": [
      "[-0.015      -0.07098076 -0.005     ]\n"
     ]
    }
   ],
   "source": [
    "# Solve a static problem [mat]{u_sol} = {rhs}\n",
    "disp_ = sol.static_sol(K_global, load_vec)\n",
    "print(disp_)\n"
   ]
  },
  {
   "cell_type": "code",
   "execution_count": 13,
   "metadata": {},
   "outputs": [
    {
     "name": "stdout",
     "output_type": "stream",
     "text": [
      "[[-0.015      -0.07098076]\n",
      " [ 0.         -0.005     ]\n",
      " [ 0.          0.        ]]\n"
     ]
    }
   ],
   "source": [
    "# Complete the displacement vectors with imposed and computed values\n",
    "disp = pos.complete_disp(IBC, nodes, disp_)\n",
    "print(disp)\n"
   ]
  },
  {
   "cell_type": "markdown",
   "metadata": {},
   "source": [
    "## Visualize the results"
   ]
  },
  {
   "cell_type": "code",
   "execution_count": 20,
   "metadata": {},
   "outputs": [],
   "source": [
    "def plot_def_undef_truss(loads, nodes, disp, xfactor=5, widget=False, **kwargs):\n",
    "    figsize = kwargs.get('figsize', [6.5, 4])\n",
    "    x_node, y_node = nodes[:, 1:3].T\n",
    "    x_def, y_def = nodes[:, 1:3].T + xfactor * disp.T\n",
    "    x_node = np.hstack((x_node, x_node[0]))\n",
    "    y_node = np.hstack((y_node, y_node[0]))\n",
    "    x_def = np.hstack((x_def, x_def[0]))\n",
    "    y_def = np.hstack((y_def, y_def[0]))\n",
    "    fig, ax = plt.subplots(ncols=1, nrows=1, figsize=figsize, layout='constrained')\n",
    "    # Cosntraints\n",
    "    x_res, y_res = nodes[1:, 1:3].T\n",
    "    ax.plot(x_res, y_res, ls=\"\", marker=5, ms=10, c='k', fillstyle='full')\n",
    "    x_res, y_res = nodes[2:, 1:3].T\n",
    "    ax.plot(x_res, y_res, ls=\"\", marker=6, ms=10, c='k', fillstyle='full')\n",
    "    # Truss\n",
    "    ax.plot(x_node, y_node, ls=\"-\", marker=\".\", lw=1.5, ms=7, c=\"b\",\n",
    "            label='Undeformed truss')\n",
    "    ax.plot(x_def, y_def, ls=\"--\", marker='o', lw=1.5, ms=7, c=\"r\", fillstyle='none',\n",
    "            label=f'Deformed truss ({xfactor}x)')\n",
    "    # Node labels\n",
    "    dx, dy = .02 * (max(x_node) - min(x_node)), .04 * (max(y_node) - min(y_node))\n",
    "    for i, (x, y) in enumerate(zip(x_node[:-1], y_node[:-1])):\n",
    "        txt = ax.text(x+dx, y+dy,  f'({x_node[i]:.3f}, {y_node[i]:.3f})\\n', c='b')\n",
    "        ax.annotate(f'({x_def[i]:.3f}, {y_def[i]:.3f})', c='r', xycoords=txt, xy=(0, 0),\n",
    "                    verticalalignment=\"bottom\")\n",
    "    # ax.text(x_node[0], y_node[0], f'({x_node[0]:.2f}, {y_node[0]:.2f})', c='b')\n",
    "    # Load\n",
    "    x_load, y_load = nodes[0][1:3]\n",
    "    dy = .2 * (max(y_node) - min(y_node))\n",
    "    if loads[0, -1] > 0:\n",
    "        dy *= -1\n",
    "    ax.arrow(x_load, y_load+dy, dx=0, dy=-dy, width=.05,  fc='k', ec='k',\n",
    "             length_includes_head=True)\n",
    "    # Format\n",
    "    # ax.legend(loc='center left', bbox_to_anchor=(1, 0.5), title=kwargs.get('title'))\n",
    "    ax.legend(loc='best')\n",
    "    ax.axis(\"image\")\n",
    "    ax.set(xlabel='$x$  [m]', ylabel='$y$  [m]')\n",
    "    ax.spines[['right', 'top']].set_visible(False)\n",
    "    ax.spines[[\"left\", \"bottom\"]].set_linewidth(1.5)\n",
    "    if widget:\n",
    "        display(fig)\n",
    "    else:\n",
    "        plt.show()\n",
    "        display(wgt.HTML(html_setup))\n",
    "    plt.close()\n",
    "    return\n"
   ]
  },
  {
   "cell_type": "code",
   "execution_count": 21,
   "metadata": {},
   "outputs": [
    {
     "data": {
      "application/vnd.jupyter.widget-view+json": {
       "model_id": "901eff0adeef46bd942ee2bf3e1c944c",
       "version_major": 2,
       "version_minor": 0
      },
      "image/png": "[encoded data removed]",
      "text/html": [
       "\n",
       "            <div style=\"display: inline-block;\">\n",
       "                <div class=\"jupyter-widgets widget-label\" style=\"text-align: center;\">\n",
       "                    Figure\n",
       "                </div>\n",
       "                <img src='data:image/png;base64,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' width=650.0/>\n",
       "            </div>\n",
       "        "
      ],
      "text/plain": [
       "Canvas(toolbar=Toolbar(toolitems=[('Home', 'Reset original view', 'home', 'home'), ('Back', 'Back to previous …"
      ]
     },
     "metadata": {},
     "output_type": "display_data"
    },
    {
     "data": {
      "application/vnd.jupyter.widget-view+json": {
       "model_id": "083b7855490f4ce8aeddae8b0cb83da7",
       "version_major": 2,
       "version_minor": 0
      },
      "text/plain": [
       "HTML(value='<style> div.jupyter-widgets.widget-label {display: none;} </style>')"
      ]
     },
     "metadata": {},
     "output_type": "display_data"
    }
   ],
   "source": [
    "plot_def_undef_truss(loads, nodes, disp)\n"
   ]
  },
  {
   "cell_type": "markdown",
   "metadata": {},
   "source": [
    "## Interactive plots"
   ]
  },
  {
   "cell_type": "code",
   "execution_count": 16,
   "metadata": {},
   "outputs": [],
   "source": [
    "def interactive_solution(l0, l2, A, load, E, xfactor=5, widget=False):\n",
    "    nodes = np.array([[0, l0, 0, 0, 0], [1, 0, l2, -1, 0], [2, 0, 0, -1, -1]])\n",
    "    mats = np.array([[0, E, A], [1, E, A], [2, E, A]])[:, 1:]\n",
    "    elems = np.array([[0, 6, 0, 2, 0], [1, 6, 1, 0, 1], [2, 6, 2, 1, 2]])\n",
    "    loads = np.array([[0, 0, load]])\n",
    "    # Get the assembly operator, boundary conditions array and No. of active equations in the system\n",
    "    DME , IBC , neq = ass.DME(nodes, elems)\n",
    "    # Assemble the global unconstrained stiffness matrix\n",
    "    K_global = ass.assembler(elems, mats, nodes, neq, DME, sparse=False)\n",
    "    # Assemble the right-hand-side vector of the equation\n",
    "    load_vec = ass.loadasem(loads, IBC, neq)\n",
    "    # Solve a static problem [mat]{u_sol} = {rhs}\n",
    "    disp_ = sol.static_sol(K_global, load_vec)\n",
    "    # Complete the displacement vectors with imposed and computed values\n",
    "    disp = pos.complete_disp(IBC, nodes, disp_)\n",
    "\n",
    "    # Plot\n",
    "    plot_def_undef_truss(loads, nodes, disp, xfactor=xfactor, widget=widget)\n",
    "\n",
    "# interactive_solution(l0, l2, A, load, E, xfactor=10)\n"
   ]
  },
  {
   "cell_type": "code",
   "execution_count": 17,
   "metadata": {},
   "outputs": [
    {
     "data": {
      "application/vnd.jupyter.widget-view+json": {
       "model_id": "67bfcc0756f14f7fac6a3ac05afdaa14",
       "version_major": 2,
       "version_minor": 0
      },
      "text/plain": [
       "HBox(children=(VBox(children=(FloatSlider(value=8.66, description='L0 [m]', layout=Layout(width='300px'), max=…"
      ]
     },
     "metadata": {},
     "output_type": "display_data"
    }
   ],
   "source": [
    "s, l = {'description_width': '50px'}, wgt.Layout(width='300px')\n",
    "controls = {\n",
    "    'l0': wgt.FloatSlider(value=8.66, min=.1, max=50, step=.5, description=\"L0 [m]\", style=s, layout=l),\n",
    "    'l2': wgt.FloatSlider(value=5.0, min=.1, max=50, step=.5, description=\"L2 [m]\", style=s, layout=l),\n",
    "    'A': wgt.FloatLogSlider(value=0.01, min=-5, max=1, step=.001, description=\"A [m²]\", style=s, layout=l),\n",
    "    'load': wgt.FloatSlider(value=-10, min=-100, max=100, step=1, description=\"Load [N]\", style=s, layout=l),\n",
    "    'E': wgt.FloatLogSlider(value=1e6, min=3, max=10, step=.1, description=\"E [Pa]\", style=s, layout=l),\n",
    "    'xfactor': wgt.FloatSlider(value=5, min=1, max=50, step=.1, description=\"x factor\", style=s, layout=l),\n",
    "    'widget': wgt.Checkbox(value=True, description='Check to improve widget performance', disabled=False, style=s, layout=l),\n",
    "}\n",
    "fig = wgt.interactive_output(interactive_solution, controls)\n",
    "wgt.HBox((wgt.VBox(list(controls.values())), fig), layout=wgt.Layout(align_items='center'))\n"
   ]
  }
 ],
 "metadata": {
  "kernelspec": {
   "display_name": "Python 3.9.13 64-bit ('solidspy-env')",
   "language": "python",
   "name": "python3"
  },
  "language_info": {
   "codemirror_mode": {
    "name": "ipython",
    "version": 3
   },
   "file_extension": ".py",
   "mimetype": "text/x-python",
   "name": "python",
   "nbconvert_exporter": "python",
   "pygments_lexer": "ipython3",
   "version": "3.9.17"
  },
  "orig_nbformat": 4,
  "vscode": {
   "interpreter": {
    "hash": "42b9ce97befeae958d128bfc8e8137711916479b07e20b35d801ac2885384ad7"
   }
  }
 },
 "nbformat": 4,
 "nbformat_minor": 2
}
