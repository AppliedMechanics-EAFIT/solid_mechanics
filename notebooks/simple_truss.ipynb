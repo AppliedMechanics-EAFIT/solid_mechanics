{
 "cells": [
  {
   "attachments": {},
   "cell_type": "markdown",
   "metadata": {},
   "source": [
    "# Solution of a simple truss by FEM using SolidsPy\n",
    "\n",
    "© 2023 Daniel F. Ruiz, Exneyder A. Montoya-Araque and Universidad EAFIT.\n",
    "\n",
    "This notebook is a modified and extended version of the [original one](https://github.com/AppliedMechanics-EAFIT/SolidsPy/blob/master/examples/simple_truss/simple_truss.ipynb) by Guarín-Zapata and Gómez in the   [SolidsPy repo](https://github.com/AppliedMechanics-EAFIT/SolidsPy).\n",
    "\n",
    "This notebook can be interactively run in [Google - Colab](https://colab.research.google.com/github/AppliedMechanics-EAFIT/EAFIT_solid_mechanics/blob/main/notebooks/simple_truss.ipynb).\n",
    "\n",
    "> Note: Be aware that this notebook follows solid mechanics sign conventions → Tractions are positive, compressions are negative, and shear forces/stresses are positive when they act on the positive $x$-plane and point to the positive $y$-direction.\n",
    "\n",
    "This notebook depends on:\n",
    "* SolidsPy V1.0.16 [Guarín-Zapata et al. (2020)](https://doi.org/10.5281/zenodo.4029270)\n",
    "* And other packages for general scientific programming in Python\n"
   ]
  },
  {
   "attachments": {},
   "cell_type": "markdown",
   "metadata": {},
   "source": [
    "## Setting up the environment"
   ]
  },
  {
   "attachments": {},
   "cell_type": "markdown",
   "metadata": {},
   "source": [
    "### Required modules and setup for plots"
   ]
  },
  {
   "cell_type": "code",
   "execution_count": 1,
   "metadata": {},
   "outputs": [],
   "source": [
    "from IPython import get_ipython\n",
    "if 'google.colab' in str(get_ipython()):\n",
    "    from google.colab import output\n",
    "    output.enable_custom_widget_manager()\n",
    "    print('Running on CoLab. Installing the required modules...')\n",
    "    !apt-get update -qq && apt-get install -y libglu1-mesa -y &> ~/apt-log.txt\n",
    "    %pip install solidspy==1.0.16 &> ~/pip-log.txt\n",
    "    %pip install ipympl &> ~/pip-log.txt &> ~/pip-log.txt\n",
    "\n",
    "import numpy as np\n",
    "import pandas as pd\n",
    "import matplotlib.pyplot as plt\n",
    "import matplotlib as mpl\n",
    "from matplotlib.ticker import MaxNLocator\n",
    "from ipywidgets import widgets as wgt\n",
    "import solidspy.preprocesor as pre\n",
    "import solidspy.postprocesor as pos\n",
    "import solidspy.assemutil as ass\n",
    "import solidspy.solutil as sol\n",
    "import solidspy.uelutil as uel\n",
    "from IPython.display import display\n",
    "\n",
    "%matplotlib widget\n",
    "\n",
    "plt.style.use(\"default\")\n",
    "mpl.rcParams.update(\n",
    "    {\n",
    "        'figure.constrained_layout.use': True,\n",
    "        'interactive': False,\n",
    "        \"text.usetex\": False,  # Use mathtext, not LaTeX\n",
    "        \"font.family\": \"cmr10\",  # Use the Computer modern font\n",
    "        \"mathtext.fontset\": \"cm\",\n",
    "        \"axes.formatter.use_mathtext\": True,\n",
    "        \"axes.unicode_minus\": False,\n",
    "    }\n",
    ")\n",
    "html_setup = '<style> div.jupyter-widgets.widget-label {display: none;} </style>'\n"
   ]
  },
  {
   "cell_type": "markdown",
   "metadata": {},
   "source": [
    "## SolidsPy's inputs"
   ]
  },
  {
   "cell_type": "markdown",
   "metadata": {},
   "source": [
    "<div style=\"background-color: white; padding: 10px;\">\n",
    "    <img src=\"../figs/simple_truss.svg\" height=\"400\" frameborder=\"0\" ></iframe>\n",
    "</div>"
   ]
  },
  {
   "cell_type": "markdown",
   "metadata": {},
   "source": [
    "### Global inputs"
   ]
  },
  {
   "cell_type": "code",
   "execution_count": 2,
   "metadata": {},
   "outputs": [],
   "source": [
    "# Geometry\n",
    "l1 = 10  # [m]\n",
    "l2 = 5  # [m]\n",
    "l0 = l1*np.cos(np.deg2rad(30))  # [m]\n",
    "A = 1e-2  # Cross-sectional area of the bars [m]\n",
    "\n",
    "# Material properties\n",
    "elastic_mod = 1e6  # [N]\n",
    "\n",
    "# Loads\n",
    "load = -10  # [N]\n"
   ]
  },
  {
   "cell_type": "markdown",
   "metadata": {},
   "source": [
    "### Nodes\n",
    "\n",
    "**Notes:**\n",
    "- Global coordinates with origin in the bottom left corner of the truss, i.e., at node 2.\n",
    "- For defining constraints, -1 means constrained, and 0 is unconstrained."
   ]
  },
  {
   "cell_type": "code",
   "execution_count": 3,
   "metadata": {},
   "outputs": [
    {
     "data": {
      "text/html": [
       "<div>\n",
       "<style scoped>\n",
       "    .dataframe tbody tr th:only-of-type {\n",
       "        vertical-align: middle;\n",
       "    }\n",
       "\n",
       "    .dataframe tbody tr th {\n",
       "        vertical-align: top;\n",
       "    }\n",
       "\n",
       "    .dataframe thead th {\n",
       "        text-align: right;\n",
       "    }\n",
       "</style>\n",
       "<table border=\"1\" class=\"dataframe\">\n",
       "  <thead>\n",
       "    <tr style=\"text-align: right;\">\n",
       "      <th></th>\n",
       "      <th>node_id</th>\n",
       "      <th>coord_x</th>\n",
       "      <th>coord_y</th>\n",
       "      <th>cons_x</th>\n",
       "      <th>cons_y</th>\n",
       "    </tr>\n",
       "  </thead>\n",
       "  <tbody>\n",
       "    <tr>\n",
       "      <th>0</th>\n",
       "      <td>0</td>\n",
       "      <td>8.660254</td>\n",
       "      <td>0</td>\n",
       "      <td>0</td>\n",
       "      <td>0</td>\n",
       "    </tr>\n",
       "    <tr>\n",
       "      <th>1</th>\n",
       "      <td>1</td>\n",
       "      <td>0.000000</td>\n",
       "      <td>5</td>\n",
       "      <td>-1</td>\n",
       "      <td>0</td>\n",
       "    </tr>\n",
       "    <tr>\n",
       "      <th>2</th>\n",
       "      <td>2</td>\n",
       "      <td>0.000000</td>\n",
       "      <td>0</td>\n",
       "      <td>-1</td>\n",
       "      <td>-1</td>\n",
       "    </tr>\n",
       "  </tbody>\n",
       "</table>\n",
       "</div>"
      ],
      "text/plain": [
       "   node_id   coord_x  coord_y  cons_x  cons_y\n",
       "0        0  8.660254        0       0       0\n",
       "1        1  0.000000        5      -1       0\n",
       "2        2  0.000000        0      -1      -1"
      ]
     },
     "execution_count": 3,
     "metadata": {},
     "output_type": "execute_result"
    }
   ],
   "source": [
    "nodes = pd.DataFrame(\n",
    "    {\n",
    "    'node_id': (0, 1, 2),\n",
    "    'coord_x': (l0, 0, 0),\n",
    "    'coord_y': (0, l2, 0),\n",
    "    'cons_x': (0, -1, -1),\n",
    "    'cons_y': (0, 0, -1)\n",
    "    }\n",
    ")\n",
    "nodes\n"
   ]
  },
  {
   "cell_type": "markdown",
   "metadata": {},
   "source": [
    "### Materials\n",
    "All the bars are made of the same material and cross-sectional area. However, assigning different materials and cross-sectional areas for each bar in the code below is possible."
   ]
  },
  {
   "cell_type": "code",
   "execution_count": 4,
   "metadata": {},
   "outputs": [
    {
     "data": {
      "text/html": [
       "<div>\n",
       "<style scoped>\n",
       "    .dataframe tbody tr th:only-of-type {\n",
       "        vertical-align: middle;\n",
       "    }\n",
       "\n",
       "    .dataframe tbody tr th {\n",
       "        vertical-align: top;\n",
       "    }\n",
       "\n",
       "    .dataframe thead th {\n",
       "        text-align: right;\n",
       "    }\n",
       "</style>\n",
       "<table border=\"1\" class=\"dataframe\">\n",
       "  <thead>\n",
       "    <tr style=\"text-align: right;\">\n",
       "      <th></th>\n",
       "      <th>elem_id</th>\n",
       "      <th>elast_mod</th>\n",
       "      <th>area</th>\n",
       "    </tr>\n",
       "  </thead>\n",
       "  <tbody>\n",
       "    <tr>\n",
       "      <th>0</th>\n",
       "      <td>0</td>\n",
       "      <td>1000000.0</td>\n",
       "      <td>0.01</td>\n",
       "    </tr>\n",
       "    <tr>\n",
       "      <th>1</th>\n",
       "      <td>1</td>\n",
       "      <td>1000000.0</td>\n",
       "      <td>0.01</td>\n",
       "    </tr>\n",
       "    <tr>\n",
       "      <th>2</th>\n",
       "      <td>2</td>\n",
       "      <td>1000000.0</td>\n",
       "      <td>0.01</td>\n",
       "    </tr>\n",
       "  </tbody>\n",
       "</table>\n",
       "</div>"
      ],
      "text/plain": [
       "   elem_id  elast_mod  area\n",
       "0        0  1000000.0  0.01\n",
       "1        1  1000000.0  0.01\n",
       "2        2  1000000.0  0.01"
      ]
     },
     "execution_count": 4,
     "metadata": {},
     "output_type": "execute_result"
    }
   ],
   "source": [
    "mats = pd.DataFrame(\n",
    "    {\n",
    "    'elem_id': (0, 1, 2),\n",
    "    'elast_mod': (elastic_mod, elastic_mod, elastic_mod),\n",
    "    'area': (A, A, A)\n",
    "    }\n",
    ")\n",
    "mats\n"
   ]
  },
  {
   "cell_type": "markdown",
   "metadata": {},
   "source": [
    "### Elements conectivity"
   ]
  },
  {
   "cell_type": "code",
   "execution_count": 5,
   "metadata": {},
   "outputs": [
    {
     "data": {
      "text/html": [
       "<div>\n",
       "<style scoped>\n",
       "    .dataframe tbody tr th:only-of-type {\n",
       "        vertical-align: middle;\n",
       "    }\n",
       "\n",
       "    .dataframe tbody tr th {\n",
       "        vertical-align: top;\n",
       "    }\n",
       "\n",
       "    .dataframe thead th {\n",
       "        text-align: right;\n",
       "    }\n",
       "</style>\n",
       "<table border=\"1\" class=\"dataframe\">\n",
       "  <thead>\n",
       "    <tr style=\"text-align: right;\">\n",
       "      <th></th>\n",
       "      <th>elem_id</th>\n",
       "      <th>elem_type</th>\n",
       "      <th>mat_profile</th>\n",
       "      <th>elem_ini</th>\n",
       "      <th>elem_end</th>\n",
       "    </tr>\n",
       "  </thead>\n",
       "  <tbody>\n",
       "    <tr>\n",
       "      <th>0</th>\n",
       "      <td>0</td>\n",
       "      <td>6</td>\n",
       "      <td>0</td>\n",
       "      <td>2</td>\n",
       "      <td>0</td>\n",
       "    </tr>\n",
       "    <tr>\n",
       "      <th>1</th>\n",
       "      <td>1</td>\n",
       "      <td>6</td>\n",
       "      <td>1</td>\n",
       "      <td>0</td>\n",
       "      <td>1</td>\n",
       "    </tr>\n",
       "    <tr>\n",
       "      <th>2</th>\n",
       "      <td>2</td>\n",
       "      <td>6</td>\n",
       "      <td>2</td>\n",
       "      <td>1</td>\n",
       "      <td>2</td>\n",
       "    </tr>\n",
       "  </tbody>\n",
       "</table>\n",
       "</div>"
      ],
      "text/plain": [
       "   elem_id  elem_type  mat_profile  elem_ini  elem_end\n",
       "0        0          6            0         2         0\n",
       "1        1          6            1         0         1\n",
       "2        2          6            2         1         2"
      ]
     },
     "execution_count": 5,
     "metadata": {},
     "output_type": "execute_result"
    }
   ],
   "source": [
    "elems = pd.DataFrame(\n",
    "    {\n",
    "    'elem_id': (0, 1, 2),\n",
    "    'elem_type': (6, 6, 6),\n",
    "    'mat_profile': (0, 1, 2),\n",
    "    'elem_ini': (2, 0, 1),\n",
    "    'elem_end': (0, 1, 2),\n",
    "    }\n",
    ")\n",
    "elems\n"
   ]
  },
  {
   "cell_type": "markdown",
   "metadata": {},
   "source": [
    "### Loads"
   ]
  },
  {
   "cell_type": "code",
   "execution_count": 6,
   "metadata": {},
   "outputs": [
    {
     "data": {
      "text/html": [
       "<div>\n",
       "<style scoped>\n",
       "    .dataframe tbody tr th:only-of-type {\n",
       "        vertical-align: middle;\n",
       "    }\n",
       "\n",
       "    .dataframe tbody tr th {\n",
       "        vertical-align: top;\n",
       "    }\n",
       "\n",
       "    .dataframe thead th {\n",
       "        text-align: right;\n",
       "    }\n",
       "</style>\n",
       "<table border=\"1\" class=\"dataframe\">\n",
       "  <thead>\n",
       "    <tr style=\"text-align: right;\">\n",
       "      <th></th>\n",
       "      <th>node_id</th>\n",
       "      <th>force_x</th>\n",
       "      <th>force_y</th>\n",
       "    </tr>\n",
       "  </thead>\n",
       "  <tbody>\n",
       "    <tr>\n",
       "      <th>0</th>\n",
       "      <td>0</td>\n",
       "      <td>0</td>\n",
       "      <td>-10</td>\n",
       "    </tr>\n",
       "  </tbody>\n",
       "</table>\n",
       "</div>"
      ],
      "text/plain": [
       "   node_id  force_x  force_y\n",
       "0        0        0      -10"
      ]
     },
     "execution_count": 6,
     "metadata": {},
     "output_type": "execute_result"
    }
   ],
   "source": [
    "loads = pd.DataFrame(\n",
    "    {\n",
    "    'node_id': (0,),\n",
    "    'force_x': (0,),\n",
    "    'force_y': (load,)\n",
    "    }\n",
    ")\n",
    "loads\n"
   ]
  },
  {
   "cell_type": "code",
   "execution_count": 7,
   "metadata": {},
   "outputs": [],
   "source": [
    "# Inputs to arrays\n",
    "nodes = nodes.to_numpy()\n",
    "mats = mats.to_numpy()[:, 1:]\n",
    "elems = elems.to_numpy()\n",
    "loads = loads.to_numpy()\n"
   ]
  },
  {
   "cell_type": "markdown",
   "metadata": {},
   "source": [
    "## Local stifness matrices"
   ]
  },
  {
   "cell_type": "markdown",
   "metadata": {},
   "source": [
    "For the problem at hand, the local stiffness matrix for each element $K_i$ is given by:\n",
    "\n",
    "$$K_0 = \\frac{2000}{\\sqrt{3}}\\begin{bmatrix}\n",
    "1 &0 &-1 &0\\\\\n",
    "0 &0 &0 &0\\\\\n",
    "1 &0 &-1 &0\\\\\n",
    "0 &0 &0 &0\\end{bmatrix}$$\n",
    "\n",
    "$$K_1 = 250\\begin{bmatrix}\n",
    "3 &-\\sqrt{3} &-3 &\\sqrt{3}\\\\\n",
    "\\sqrt{3} &1 &\\sqrt{3} &-1\\\\\n",
    "-3 &\\sqrt{3} &3 &-\\sqrt{3}\\\\\n",
    "\\sqrt{3} &-1 &-\\sqrt{3} &1\\end{bmatrix}$$\n",
    "\n",
    "$$K_2 = 2000\\begin{bmatrix}\n",
    "0 &0 &0 &0\\\\\n",
    "0 &1 &0 &1\\\\\n",
    "0 &0 &0 &0\\\\\n",
    "0 &-1 &0 &1\\end{bmatrix}$$\n",
    "\n",
    "This can be double-checked by using SolidsPy:"
   ]
  },
  {
   "cell_type": "code",
   "execution_count": 8,
   "metadata": {},
   "outputs": [
    {
     "name": "stdout",
     "output_type": "stream",
     "text": [
      "Element 0 -- K (local)\n",
      "[[ 1155.     0. -1155.     0.]\n",
      " [    0.     0.     0.     0.]\n",
      " [-1155.     0.  1155.     0.]\n",
      " [    0.     0.     0.     0.]]\n",
      "\n",
      "Element 1 -- K (local)\n",
      "[[ 750. -433. -750.  433.]\n",
      " [-433.  250.  433. -250.]\n",
      " [-750.  433.  750. -433.]\n",
      " [ 433. -250. -433.  250.]]\n",
      "\n",
      "Element 2 -- K (local)\n",
      "[[    0.     0.     0.     0.]\n",
      " [    0.  2000.     0. -2000.]\n",
      " [    0.     0.     0.     0.]\n",
      " [    0. -2000.     0.  2000.]]\n",
      "\n"
     ]
    }
   ],
   "source": [
    "for el in range(3):\n",
    "    coords = nodes[elems[el, 3:], 1:3]\n",
    "    E, A = mats[el]\n",
    "    # print(coords, E, A, sep=\"\\n\", end=\"\\n\\n\")\n",
    "    K_local = uel.ueltruss2D(coords, A, E)\n",
    "    print(f\"Element {el} -- K (local)\", np.round(K_local), sep=\"\\n\", end=\"\\n\\n\")\n"
   ]
  },
  {
   "cell_type": "markdown",
   "metadata": {},
   "source": [
    "## Global stiffness matrix"
   ]
  },
  {
   "cell_type": "markdown",
   "metadata": {},
   "source": [
    "### Unconstrained matrix\n",
    "\n",
    "\n",
    "$$K_\\text{total} = 250 \\begin{bmatrix}\n",
    "\\frac{8}{\\sqrt{3}} + 3 &-\\sqrt{3} &3 &\\sqrt{3} &-\\frac{8}{\\sqrt{3}} &0\\\\\n",
    "-\\sqrt{3} &1 &\\sqrt{3} &-1 &0 &0\\\\\n",
    "3 &\\sqrt{3} &3 &-\\sqrt{3} &0 &0\\\\\n",
    "\\sqrt{3} &-1 &-\\sqrt{3} &9 &0 &-8\\\\\n",
    "-\\frac{8}{\\sqrt{3}} &0 &0 &0 &\\frac{8}{\\sqrt{3}} &0\\\\\n",
    "0 &0 &0 &-8 &0 &8\n",
    "\\end{bmatrix}$$\n"
   ]
  },
  {
   "cell_type": "code",
   "execution_count": 9,
   "metadata": {},
   "outputs": [
    {
     "name": "stdout",
     "output_type": "stream",
     "text": [
      "[[ 1905.  -433.  -750.   433. -1155.     0.]\n",
      " [ -433.   250.   433.  -250.     0.     0.]\n",
      " [ -750.   433.   750.  -433.     0.     0.]\n",
      " [  433.  -250.  -433.  2250.     0. -2000.]\n",
      " [-1155.     0.     0.     0.  1155.     0.]\n",
      " [    0.     0.     0. -2000.     0.  2000.]]\n"
     ]
    }
   ],
   "source": [
    "# Create a unconstrained nodes array\n",
    "nodes_uncon = nodes.copy()\n",
    "nodes_uncon[:, 3:] = 0  # Remember that zero means unconstrained\n",
    "\n",
    "# Get the assembly operator, boundary conditions array and No. of active equations in the system\n",
    "DME , IBC , neq = ass.DME(nodes_uncon, elems)\n",
    "\n",
    "# Assambly the global unconstrained stiffness matrix\n",
    "K_global_uncon = ass.assembler(elems, mats, nodes_uncon, neq, DME, sparse=False)\n",
    "print(np.round(K_global_uncon))\n"
   ]
  },
  {
   "cell_type": "markdown",
   "metadata": {},
   "source": [
    "### Constrained matrix\n",
    "\n",
    "$$K_\\text{total}^\\text{cons} = 250 \\begin{bmatrix}\n",
    "\\frac{8}{\\sqrt{3}} + 3 &-\\sqrt{3} &\\sqrt{3}\\\\\n",
    "-\\sqrt{3} &1  &-1 \\\\\n",
    "\\sqrt{3} &-1 &9\\\\\n",
    "\\end{bmatrix}$$\n"
   ]
  },
  {
   "cell_type": "code",
   "execution_count": 10,
   "metadata": {},
   "outputs": [
    {
     "name": "stdout",
     "output_type": "stream",
     "text": [
      "[[1905. -433.  433.]\n",
      " [-433.  250. -250.]\n",
      " [ 433. -250. 2250.]]\n"
     ]
    }
   ],
   "source": [
    "# Get the assembly operator, boundary conditions array and No. of active equations in the system\n",
    "DME , IBC , neq = ass.DME(nodes, elems)\n",
    "# Assemble the global unconstrained stiffness matrix\n",
    "K_global = ass.assembler(elems, mats, nodes, neq, DME, sparse=False)\n",
    "print(np.round(K_global))\n"
   ]
  },
  {
   "cell_type": "markdown",
   "metadata": {},
   "source": [
    "### Right-hand-side (rhs) vector of the equation to solve"
   ]
  },
  {
   "cell_type": "code",
   "execution_count": 11,
   "metadata": {},
   "outputs": [
    {
     "name": "stdout",
     "output_type": "stream",
     "text": [
      "[  0. -10.   0.]\n"
     ]
    }
   ],
   "source": [
    "# Assemble the right-hand-side vector of the equation\n",
    "load_vec = ass.loadasem(loads, IBC, neq)\n",
    "print(load_vec)\n"
   ]
  },
  {
   "cell_type": "markdown",
   "metadata": {},
   "source": [
    "## Solve the system of equations"
   ]
  },
  {
   "cell_type": "code",
   "execution_count": 12,
   "metadata": {},
   "outputs": [
    {
     "name": "stdout",
     "output_type": "stream",
     "text": [
      "[-0.015      -0.07098076 -0.005     ]\n"
     ]
    }
   ],
   "source": [
    "# Solve a static problem [mat]{u_sol} = {rhs}\n",
    "disp_ = sol.static_sol(K_global, load_vec)\n",
    "print(disp_)\n"
   ]
  },
  {
   "cell_type": "code",
   "execution_count": 13,
   "metadata": {},
   "outputs": [
    {
     "name": "stdout",
     "output_type": "stream",
     "text": [
      "[[-0.015      -0.07098076]\n",
      " [ 0.         -0.005     ]\n",
      " [ 0.          0.        ]]\n"
     ]
    }
   ],
   "source": [
    "# Complete the displacement vectors with imposed and computed values\n",
    "disp = pos.complete_disp(IBC, nodes, disp_)\n",
    "print(disp)\n"
   ]
  },
  {
   "cell_type": "markdown",
   "metadata": {},
   "source": [
    "## Visualize the results"
   ]
  },
  {
   "cell_type": "code",
   "execution_count": 14,
   "metadata": {},
   "outputs": [],
   "source": [
    "def plot_def_undef_truss(loads, nodes, disp, xfactor=5, widget=False, **kwargs):\n",
    "    figsize = kwargs.get('figsize', [6.5, 4])\n",
    "    x_node, y_node = nodes[:, 1:3].T\n",
    "    x_def, y_def = nodes[:, 1:3].T + xfactor * disp.T\n",
    "    x_node = np.hstack((x_node, x_node[0]))\n",
    "    y_node = np.hstack((y_node, y_node[0]))\n",
    "    x_def = np.hstack((x_def, x_def[0]))\n",
    "    y_def = np.hstack((y_def, y_def[0]))\n",
    "    fig, ax = plt.subplots(ncols=1, nrows=1, figsize=figsize, layout='constrained')\n",
    "    # Cosntraints\n",
    "    x_res, y_res = nodes[1:, 1:3].T\n",
    "    ax.plot(x_res, y_res, ls=\"\", marker=5, ms=10, c='k', fillstyle='full')\n",
    "    x_res, y_res = nodes[2:, 1:3].T\n",
    "    ax.plot(x_res, y_res, ls=\"\", marker=6, ms=10, c='k', fillstyle='full')\n",
    "    # Truss\n",
    "    ax.plot(x_node, y_node, ls=\"-\", marker=\".\", lw=1.5, ms=7, c=\"b\",\n",
    "            label='Undeformed truss')\n",
    "    ax.plot(x_def, y_def, ls=\"--\", marker='o', lw=1.5, ms=7, c=\"r\", fillstyle='none',\n",
    "            label=f'Deformed truss ({xfactor}x)')\n",
    "    # Load\n",
    "    x_load, y_load = nodes[0][1:3]\n",
    "    dy = .2 * (max(y_node) - min(y_node))\n",
    "    if loads[0, -1] > 0:\n",
    "        dy *= -1\n",
    "    ax.arrow(x_load, y_load+dy, dx=0, dy=-dy, width=.05,  fc='k', ec='k',\n",
    "             length_includes_head=True)\n",
    "    # Format\n",
    "    # ax.legend(loc='center left', bbox_to_anchor=(1, 0.5), title=kwargs.get('title'))\n",
    "    ax.legend(loc='best')\n",
    "    ax.axis(\"image\")\n",
    "    ax.set(xlabel='$x$  [m]', ylabel='$y$  [m]')\n",
    "    if widget:\n",
    "        display(fig)\n",
    "    else:\n",
    "        plt.show()\n",
    "        display(wgt.HTML(html_setup))\n",
    "    plt.close()\n",
    "    return\n"
   ]
  },
  {
   "cell_type": "code",
   "execution_count": 15,
   "metadata": {},
   "outputs": [
    {
     "data": {
      "application/vnd.jupyter.widget-view+json": {
       "model_id": "235cda6a59db4aedb351db0423b3b4af",
       "version_major": 2,
       "version_minor": 0
      },
      "image/png": "[encoded data removed]",
      "text/html": [
       "\n",
       "            <div style=\"display: inline-block;\">\n",
       "                <div class=\"jupyter-widgets widget-label\" style=\"text-align: center;\">\n",
       "                    Figure\n",
       "                </div>\n",
       "                <img src='data:image/png;base64,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' width=650.0/>\n",
       "            </div>\n",
       "        "
      ],
      "text/plain": [
       "Canvas(toolbar=Toolbar(toolitems=[('Home', 'Reset original view', 'home', 'home'), ('Back', 'Back to previous …"
      ]
     },
     "metadata": {},
     "output_type": "display_data"
    },
    {
     "data": {
      "application/vnd.jupyter.widget-view+json": {
       "model_id": "4dee8efcb00d4ae8947e8ddc5b124c2e",
       "version_major": 2,
       "version_minor": 0
      },
      "text/plain": [
       "HTML(value='<style> div.jupyter-widgets.widget-label {display: none;} </style>')"
      ]
     },
     "metadata": {},
     "output_type": "display_data"
    }
   ],
   "source": [
    "plot_def_undef_truss(loads, nodes, disp)\n"
   ]
  },
  {
   "cell_type": "markdown",
   "metadata": {},
   "source": [
    "## Interactive plots"
   ]
  },
  {
   "cell_type": "code",
   "execution_count": 16,
   "metadata": {},
   "outputs": [],
   "source": [
    "def interactive_solution(l0, l2, A, load, E, xfactor=5, widget=False):\n",
    "    nodes = np.array([[0, l0, 0, 0, 0], [1, 0, l2, -1, 0], [2, 0, 0, -1, -1]])\n",
    "    mats = np.array([[0, E, A], [1, E, A], [2, E, A]])[:, 1:]\n",
    "    elems = np.array([[0, 6, 0, 2, 0], [1, 6, 1, 0, 1], [2, 6, 2, 1, 2]])\n",
    "    loads = np.array([[0, 0, load]])\n",
    "    # Get the assembly operator, boundary conditions array and No. of active equations in the system\n",
    "    DME , IBC , neq = ass.DME(nodes, elems)\n",
    "    # Assemble the global unconstrained stiffness matrix\n",
    "    K_global = ass.assembler(elems, mats, nodes, neq, DME, sparse=False)\n",
    "    # Assemble the right-hand-side vector of the equation\n",
    "    load_vec = ass.loadasem(loads, IBC, neq)\n",
    "    # Solve a static problem [mat]{u_sol} = {rhs}\n",
    "    disp_ = sol.static_sol(K_global, load_vec)\n",
    "    # Complete the displacement vectors with imposed and computed values\n",
    "    disp = pos.complete_disp(IBC, nodes, disp_)\n",
    "\n",
    "    # Plot\n",
    "    plot_def_undef_truss(loads, nodes, disp, xfactor=xfactor, widget=widget)\n",
    "\n",
    "# interactive_solution(l0, l2, A, load, E, xfactor=10)\n"
   ]
  },
  {
   "cell_type": "code",
   "execution_count": 17,
   "metadata": {},
   "outputs": [
    {
     "data": {
      "application/vnd.jupyter.widget-view+json": {
       "model_id": "44075c7f49a9476e9bd2f8866cd9ae20",
       "version_major": 2,
       "version_minor": 0
      },
      "text/plain": [
       "HBox(children=(VBox(children=(FloatSlider(value=8.66, description='L0 [m]', layout=Layout(width='300px'), max=…"
      ]
     },
     "metadata": {},
     "output_type": "display_data"
    }
   ],
   "source": [
    "s, l = {'description_width': '50px'}, wgt.Layout(width='300px')\n",
    "controls = {\n",
    "    'l0': wgt.FloatSlider(value=8.66, min=.1, max=50, step=.5, description=\"L0 [m]\", style=s, layout=l),\n",
    "    'l2': wgt.FloatSlider(value=5.0, min=.1, max=50, step=.5, description=\"L2 [m]\", style=s, layout=l),\n",
    "    'A': wgt.FloatLogSlider(value=0.01, min=-5, max=1, step=.001, description=\"A [m²]\", style=s, layout=l),\n",
    "    'load': wgt.FloatSlider(value=-10, min=-100, max=100, step=1, description=\"Load [N]\", style=s, layout=l),\n",
    "    'E': wgt.FloatLogSlider(value=1e6, min=3, max=10, step=.1, description=\"E [Pa]\", style=s, layout=l),\n",
    "    'xfactor': wgt.FloatSlider(value=5, min=1, max=50, step=.1, description=\"x factor\", style=s, layout=l),\n",
    "    'widget': wgt.Checkbox(value=True, description='Check to improve widget performance', disabled=False, style=s, layout=l),\n",
    "}\n",
    "fig = wgt.interactive_output(interactive_solution, controls)\n",
    "wgt.HBox((wgt.VBox(list(controls.values())), fig), layout=wgt.Layout(align_items='center'))\n"
   ]
  }
 ],
 "metadata": {
  "kernelspec": {
   "display_name": "Python 3.9.13 64-bit ('solidspy-env')",
   "language": "python",
   "name": "python3"
  },
  "language_info": {
   "codemirror_mode": {
    "name": "ipython",
    "version": 3
   },
   "file_extension": ".py",
   "mimetype": "text/x-python",
   "name": "python",
   "nbconvert_exporter": "python",
   "pygments_lexer": "ipython3",
   "version": "3.9.17"
  },
  "orig_nbformat": 4,
  "vscode": {
   "interpreter": {
    "hash": "42b9ce97befeae958d128bfc8e8137711916479b07e20b35d801ac2885384ad7"
   }
  }
 },
 "nbformat": 4,
 "nbformat_minor": 2
}
