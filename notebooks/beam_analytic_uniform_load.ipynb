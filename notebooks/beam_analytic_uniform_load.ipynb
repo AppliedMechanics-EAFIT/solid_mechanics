{
 "cells": [
  {
   "attachments": {},
   "cell_type": "markdown",
   "metadata": {},
   "source": [
    "# Analytical solution for a beam under a uniform load\n",
    "\n",
    "© 2023 Daniel F. Ruiz, Exneyder A. Montoya-Araque and Universidad EAFIT.\n",
    "\n",
    "This notebook can be interactively run in [Google - Colab](https://colab.research.google.com/github/AppliedMechanics-EAFIT/EAFIT_solid_mechanics/blob/main/notebooks/beam_analytic_uniform_load.ipynb).\n",
    "\n",
    "This notebook was developed based on the Chapter 4 of the book [Teoría de la elasticidad usando Matlab y Maxima. Volumen 1: Fundamentos](https://repositorio.unal.edu.co/handle/unal/84682) BY Álvarez Marín (2023).\n",
    "\n",
    "> Note: Be aware that this notebook follows solid mechanics sign conventions → Tractions are positive, compressions are negative, and shear forces/stresses are positive when they act on the positive $x$-plane and point to the positive $y$-direction.\n",
    "\n",
    "<div style=\"background-color: white; padding: 10px;\">\n",
    "    <img src=\"../figs/Beam_uniform_load.svg\" height=\"300\" frameborder=\"0\" ></iframe>\n",
    "</div>\n"
   ]
  },
  {
   "attachments": {},
   "cell_type": "markdown",
   "metadata": {},
   "source": [
    "## Required modules and global setup for plots"
   ]
  },
  {
   "cell_type": "code",
   "execution_count": 1,
   "metadata": {},
   "outputs": [],
   "source": [
    "import numpy as np\n",
    "import matplotlib.pyplot as plt\n",
    "import matplotlib as mpl\n",
    "import sympy as sym\n",
    "from ipywidgets import widgets as wgt\n",
    "from ipywidgets import interact, widgets, FloatSlider, FloatText, fixed\n",
    "from IPython import get_ipython\n",
    "from IPython.display import display, clear_output\n",
    "\n",
    "if 'google.colab' in str(get_ipython()):\n",
    "    %pip install ipympl &> ~/pip-log.txt\n",
    "    from google.colab import output\n",
    "    output.enable_custom_widget_manager()\n",
    "\n",
    "%matplotlib widget\n",
    "# %matplotlib inline\n",
    "\n",
    "plt.style.use(\"default\")\n",
    "mpl.rcParams.update(\n",
    "    {\n",
    "        'figure.constrained_layout.use': True,\n",
    "        'interactive': False,\n",
    "        \"text.usetex\": False,  # Use mathtext, not LaTeX\n",
    "        \"font.family\": \"cmr10\",  # Use the Computer modern font\n",
    "        \"mathtext.fontset\": \"cm\",\n",
    "        \"axes.formatter.use_mathtext\": True,\n",
    "        \"axes.unicode_minus\": False,\n",
    "    }\n",
    ")\n",
    "html_setup = '<style> div.jupyter-widgets.widget-label {display: none;} </style>'"
   ]
  },
  {
   "cell_type": "markdown",
   "metadata": {},
   "source": [
    "## Functions"
   ]
  },
  {
   "cell_type": "code",
   "execution_count": 2,
   "metadata": {},
   "outputs": [],
   "source": [
    "def beam_stress_fields(x, y, q, c, l):\n",
    "    moi = (2 / 3) * c**3 # Second moment of inertia\n",
    "    # Stress field\n",
    "    𝜎_xx = - (x**2*y - 2*y**3/3 + 2*c**2*y/5 - l**2*y) * q / (2*moi)\n",
    "    𝜎_yy = -(y**3/3 - c**2*y - 2*c**3/3) * q / (2*moi)\n",
    "    𝜎_zz, 𝜏_xz, 𝜏_xyz = 0*𝜎_xx, 0*𝜎_xx, 0*𝜎_xx\n",
    "    𝜏_xy = -(c**2 - y**2) * x * q / (2*moi)\n",
    "    # Mean stress and max shear stress\n",
    "    𝜎_m = (𝜎_xx + 𝜎_yy) / 2\n",
    "    𝜏_max = np.sqrt(((𝜎_xx - 𝜎_yy) / 2) ** 2 + 𝜏_xy ** 2)\n",
    "    #Principal stresses\n",
    "    𝜎_1 = 𝜎_m + 𝜏_max\n",
    "    𝜎_3 = 𝜎_m - 𝜏_max\n",
    "    # return 𝜎_xx , 𝜎_yy , 𝜏_xy , 𝜎_1 , 𝜎_3 , 𝜎_m, 𝜏_max\n",
    "    stress_fields = {\n",
    "        \"𝜎_xx\": 𝜎_xx,\n",
    "        \"𝜎_yy\": 𝜎_yy,\n",
    "        \"𝜏_xy\": 𝜏_xy,\n",
    "        \"𝜎_1\": 𝜎_1,\n",
    "        \"𝜎_3\": 𝜎_3,\n",
    "        \"𝜎_m\": 𝜎_m,\n",
    "        \"𝜏_max\": 𝜏_max,\n",
    "    }\n",
    "    return stress_fields\n",
    "\n",
    "def beam_strains_fields(x, y, q, c, l, E, ν):\n",
    "    E *= 1e9 # Convert to [Pa]\n",
    "    q *= 1e3 # Convert to [N/m]\n",
    "    stress_fields = beam_stress_fields(x, y, q, c, l)\n",
    "    𝜎_xx, 𝜎_yy, 𝜏_xy = stress_fields[\"𝜎_xx\"], stress_fields[\"𝜎_yy\"], stress_fields[\"𝜏_xy\"]\n",
    "    G = E / (2 * (1 + ν))  # Shear modulus\n",
    "    # Strain field\n",
    "    𝜀_xx = (𝜎_xx - ν*𝜎_yy) / E\n",
    "    𝜀_yy = (𝜎_yy - ν*𝜎_xx) / E\n",
    "    𝜀_zz  = -ν*(𝜎_xx + 𝜎_yy) / E\n",
    "    𝛾_xy = 𝜏_xy / G\n",
    "    𝜀_xy = 0.5 * 𝛾_xy\n",
    "    # Mean strain and max shear stress\n",
    "    𝜀_m = 0.5 * (𝜀_xx + 𝜀_yy)\n",
    "    𝜀_max = np.sqrt((𝜀_xx - c) ** 2 + 𝜀_xy**2)\n",
    "    #Principal strains\n",
    "    𝜀_1 = 𝜀_m + 𝜀_max\n",
    "    𝜀_3 = 𝜀_m - 𝜀_max\n",
    "    strain_state = {\n",
    "        \"𝜀_xx\": 𝜀_xx,\n",
    "        \"𝜀_yy\": 𝜀_yy,\n",
    "        \"𝜀_zz\": 𝜀_zz,\n",
    "        \"𝜀_xy\": 𝜀_xy,\n",
    "        \"𝜀_1\": 𝜀_1,\n",
    "        \"𝜀_3\": 𝜀_3,\n",
    "        \"𝜀_vol\": (𝜀_1 + 𝜀_3),\n",
    "        \"𝜀_max\": 𝜀_max,\n",
    "        \"𝜀_m\": 𝜀_m\n",
    "    }\n",
    "    return strain_state\n",
    "\n",
    "def dict_values_to_numpy(dictionary):\n",
    "    return np.array(list(dictionary.values()))\n",
    "\n",
    "def round_dict(dictionary, decimals=2):\n",
    "    return {key: np.round(val, decimals) for key, val in dictionary.items()}\n",
    "\n",
    "def stress_at_a_value(x, y, q, c, l, field):\n",
    "    stress = beam_stress_fields(x, y, q, c, l)[field]\n",
    "    print(f'{field} at ({x}, {y}) is {stress:.2f} kPa')\n",
    "    return\n",
    "\n",
    "def strain_at_a_value(x, y, q, c, l, E, ν, field):\n",
    "    strain = beam_strains_fields(x, y, q, c, l, E, ν)[field]\n",
    "    print(f'{field} at ({x}, {y}) is {strain:.3E}')\n",
    "    return\n",
    "\n",
    "def plot_field(x, y, fields, **kwargs):\n",
    "    figsize = kwargs.get('figsize')\n",
    "    fmt = {kwargs.get('cbar_fmt', None)}\n",
    "    # Figure\n",
    "    fields = fields if isinstance(fields, list) else [fields]\n",
    "    titles = kwargs.get('titles')\n",
    "    if titles is None:\n",
    "        titles = [f'Field {i}' for i in range(len(fields))]\n",
    "    else:\n",
    "        titles = titles if isinstance(titles, list) else [titles]\n",
    "    fig, axs = plt.subplots(ncols=1, nrows=len(fields), figsize=figsize,\n",
    "                            sharex=True, sharey=True, constrained_layout=True)\n",
    "    axs = axs if len(fields)>1 else [axs]\n",
    "    for ax, field, title in zip(axs, fields, titles):\n",
    "        im = ax.contourf(x, y, field, cmap=\"RdYlBu_r\", origin='image', levels=20)\n",
    "        ax.axis('image')\n",
    "        ax.set_title(title)\n",
    "        # if 'cbar_fmt' in kwargs:\n",
    "        #     cb = fig.colorbar(im, ax=ax, shrink=0.75, aspect=5, location='left',\n",
    "        #                       format=kwargs['cbar_fmt'])\n",
    "        # else:\n",
    "        cb = fig.colorbar(im, ax=ax, shrink=0.75, aspect=5, location='left')\n",
    "    display(wgt.HTML(html_setup))\n",
    "    plt.close()"
   ]
  },
  {
   "attachments": {},
   "cell_type": "markdown",
   "metadata": {},
   "source": [
    "## Global inputs"
   ]
  },
  {
   "cell_type": "code",
   "execution_count": 3,
   "metadata": {},
   "outputs": [],
   "source": [
    "# Input data - Beam geometry and load\n",
    "q = -10  # [kN/m]\n",
    "c = 0.5  # [m]\n",
    "l = 3  # [m]\n",
    "t = 1  # [m]\n",
    "E = 21  # [GPa]\n",
    "ν = 0.23  # [-]"
   ]
  },
  {
   "cell_type": "markdown",
   "metadata": {},
   "source": [
    "## Stresses"
   ]
  },
  {
   "attachments": {},
   "cell_type": "markdown",
   "metadata": {},
   "source": [
    "### Showing the tensor at one point"
   ]
  },
  {
   "cell_type": "code",
   "execution_count": 4,
   "metadata": {},
   "outputs": [
    {
     "name": "stdout",
     "output_type": "stream",
     "text": [
      "𝜎 =\n"
     ]
    },
    {
     "data": {
      "text/latex": [
       "$\\displaystyle \\left[\\begin{matrix}288.72 & 48.0\\\\48.0 & -8.96\\end{matrix}\\right]$"
      ],
      "text/plain": [
       "Matrix([\n",
       "[288.72,  48.0],\n",
       "[  48.0, -8.96]])"
      ]
     },
     "execution_count": 4,
     "metadata": {},
     "output_type": "execute_result"
    }
   ],
   "source": [
    "# Coordinates of the point of interest\n",
    "x, y = 5, 0.3\n",
    "\n",
    "# Getting stress fields\n",
    "stress_fields = beam_stress_fields(x, y, q, c, l)\n",
    "𝜎_xx , 𝜎_yy , 𝜏_xy , 𝜎_1 , 𝜎_3 , 𝜎_m, 𝜏_max = round_dict(stress_fields, 2).values()\n",
    "# Showing results as a matrix\n",
    "𝜎 = sym.Matrix([[𝜎_xx, 𝜏_xy], [𝜏_xy, 𝜎_yy]])\n",
    "𝜎_eig = sym.Matrix([[𝜎_1, 0], [0, 𝜎_3]])\n",
    "print('𝜎 ='),\n",
    "𝜎"
   ]
  },
  {
   "attachments": {},
   "cell_type": "markdown",
   "metadata": {},
   "source": [
    "### Plotting the fields"
   ]
  },
  {
   "cell_type": "code",
   "execution_count": 5,
   "metadata": {},
   "outputs": [
    {
     "data": {
      "application/vnd.jupyter.widget-view+json": {
       "model_id": "3233a9b34e0142bc9657af9b724f9064",
       "version_major": 2,
       "version_minor": 0
      },
      "text/plain": [
       "HTML(value='<style> div.jupyter-widgets.widget-label {display: none;} </style>')"
      ]
     },
     "metadata": {},
     "output_type": "display_data"
    }
   ],
   "source": [
    "# Nodes\n",
    "xx , yy = np.meshgrid(np.linspace(-l , l , 100), np.linspace(-c, c, 100))\n",
    "\n",
    "# Solver\n",
    "stress_fields = beam_stress_fields(xx , yy, q, c, l)\n",
    "𝜎_xx , 𝜎_yy , 𝜏_xy , 𝜎_1 , 𝜎_3 , 𝜎_m, 𝜏_max = stress_fields.values()\n",
    "\n",
    "# Visualization\n",
    "titles = [\"$\\sigma_{xx}$\", \"$\\sigma_{yy}$\", \"$\\\\tau_{xy}$\", \"$\\sigma_{1}$\", \"$\\sigma_{3}$\", \"$\\\\tau_\\mathrm{max}$\"]\n",
    "plot_field(xx , yy, [𝜎_xx , 𝜎_yy , 𝜏_xy , 𝜎_1 , 𝜎_3 , 𝜏_max], titles=titles, figsize=[6, 9])"
   ]
  },
  {
   "cell_type": "code",
   "execution_count": 6,
   "metadata": {},
   "outputs": [
    {
     "data": {
      "application/vnd.jupyter.widget-view+json": {
       "model_id": "29cdb2113a2c48c09f524813fb964e97",
       "version_major": 2,
       "version_minor": 0
      },
      "text/plain": [
       "interactive(children=(BoundedFloatText(value=3.0, description='x [m]:', max=3.0, step=0.5), BoundedFloatText(v…"
      ]
     },
     "metadata": {},
     "output_type": "display_data"
    }
   ],
   "source": [
    "wid = interact(  # Interactive widgets\n",
    "    stress_at_a_value,\n",
    "    x = wgt.BoundedFloatText(value=3, min=0, max=l, step=0.5, description='x [m]:'),\n",
    "    y = wgt.BoundedFloatText(value=-0.3, min=-c, max=c, step=0.1, description='y [m]'),\n",
    "    q = wgt.FloatText(value=-10, description='load [kN/m]:'),\n",
    "    c = wgt. BoundedFloatText(value=0.5, min=0.01, step=0.5, description='h [m]:'),\n",
    "    l = wgt. BoundedFloatText(value=3, min=0.01, step=0.5, description='l [m]:'),\n",
    "    field = wgt.Dropdown(options=['𝜎_xx', '𝜎_yy', '𝜏_xy', '𝜎_1', '𝜎_3', '𝜎_m', '𝜏_max'],\n",
    "        value='𝜏_max', description='field:'),\n",
    ")"
   ]
  },
  {
   "cell_type": "markdown",
   "metadata": {},
   "source": [
    "## Strains"
   ]
  },
  {
   "cell_type": "markdown",
   "metadata": {},
   "source": [
    "### Showing the tensor at one point"
   ]
  },
  {
   "cell_type": "code",
   "execution_count": 7,
   "metadata": {},
   "outputs": [
    {
     "name": "stdout",
     "output_type": "stream",
     "text": [
      "𝜀 =\n"
     ]
    },
    {
     "data": {
      "text/latex": [
       "$\\displaystyle \\left[\\begin{matrix}1.38467047619048 \\cdot 10^{-5} & 2.81142857142857 \\cdot 10^{-6} & 0\\\\2.81142857142857 \\cdot 10^{-6} & -3.5888380952381 \\cdot 10^{-6} & 0\\\\0 & 0 & -3.0640380952381 \\cdot 10^{-6}\\end{matrix}\\right]$"
      ],
      "text/plain": [
       "Matrix([\n",
       "[1.38467047619048e-5, 2.81142857142857e-6,                   0],\n",
       "[2.81142857142857e-6, -3.5888380952381e-6,                   0],\n",
       "[                  0,                   0, -3.0640380952381e-6]])"
      ]
     },
     "execution_count": 7,
     "metadata": {},
     "output_type": "execute_result"
    }
   ],
   "source": [
    "# Coordinates of the point of interest\n",
    "x, y = 5, 0.3\n",
    "\n",
    "# Getting stress fields\n",
    "strain_fields = beam_strains_fields(x, y, q, c, l, E, ν)\n",
    "# 𝜀_xx, 𝜀_yy, 𝜀_zz, 𝜀_xy, 𝜀_1, 𝜀_3, 𝜀_vol, 𝜀_max, 𝜀_m = round_dict(strain_fields, 2).values()\n",
    "𝜀_xx, 𝜀_yy, 𝜀_zz, 𝜀_xy, 𝜀_1, 𝜀_3, 𝜀_vol, 𝜀_max, 𝜀_m = strain_fields.values()\n",
    "\n",
    "# Showing results as a matrix\n",
    "𝜀 = sym.Matrix([[𝜀_xx, 𝜀_xy, 0], [𝜀_xy, 𝜀_yy, 0], [0, 0, 𝜀_zz]])\n",
    "print('𝜀 ='),\n",
    "𝜀"
   ]
  },
  {
   "cell_type": "markdown",
   "metadata": {},
   "source": [
    "### Plotting the fields"
   ]
  },
  {
   "cell_type": "code",
   "execution_count": 8,
   "metadata": {},
   "outputs": [
    {
     "data": {
      "text/plain": [
       "(1.3846704761904767e-05,\n",
       " -3.588838095238097e-06,\n",
       " -3.0640380952380968e-06,\n",
       " 2.8114285714285714e-06,\n",
       " 0.49999128223647576,\n",
       " -0.4999810243698091,\n",
       " 1.0257866666640858e-05,\n",
       " 0.49998615330314244,\n",
       " 5.128933333333335e-06)"
      ]
     },
     "execution_count": 8,
     "metadata": {},
     "output_type": "execute_result"
    }
   ],
   "source": [
    "𝜀_xx, 𝜀_yy, 𝜀_zz, 𝜀_xy, 𝜀_1, 𝜀_3, 𝜀_vol, 𝜀_max, 𝜀_m"
   ]
  },
  {
   "cell_type": "code",
   "execution_count": 9,
   "metadata": {},
   "outputs": [
    {
     "data": {
      "application/vnd.jupyter.widget-view+json": {
       "model_id": "cdbf1f16fb694af498a3921a1a7a37bd",
       "version_major": 2,
       "version_minor": 0
      },
      "text/plain": [
       "HTML(value='<style> div.jupyter-widgets.widget-label {display: none;} </style>')"
      ]
     },
     "metadata": {},
     "output_type": "display_data"
    }
   ],
   "source": [
    "# Nodes\n",
    "xx , yy = np.meshgrid(np.linspace(-l , l , 100), np.linspace(-c, c, 100))\n",
    "\n",
    "# Solver\n",
    "strain_fields = beam_strains_fields(xx , yy, q, c, l, E, ν)\n",
    "𝜀_xx, 𝜀_yy, 𝜀_zz, 𝜀_xy, 𝜀_1, 𝜀_3, 𝜀_vol, 𝜀_max, 𝜀_m = strain_fields.values()\n",
    "\n",
    "# Visualization\n",
    "titles = [\"$\\\\varepsilon_{xx}$\", \"$\\\\varepsilon_{yy}$\", \"$\\\\varepsilon_{zz}$\", \"$\\\\varepsilon_{xy}$\",\n",
    "          \"$\\\\varepsilon_{1}$\", \"$\\\\varepsilon_{3}$\", \"$\\\\varepsilon_\\mathrm{vol}$\", \"$\\\\varepsilon_\\mathrm{max}$\"]\n",
    "# titles = [\"$\\sigma_{xx}$\", \"$\\sigma_{yy}$\", \"$\\\\tau_{xy}$\", \"$\\sigma_{1}$\", \"$\\sigma_{3}$\", \"$\\\\tau_\\mathrm{max}$\"]\n",
    "plot_field(xx , yy, [𝜀_xx, 𝜀_yy, 𝜀_zz, 𝜀_xy, 𝜀_1, 𝜀_3, 𝜀_vol, 𝜀_max], titles=titles, figsize=[6, 10])"
   ]
  },
  {
   "cell_type": "code",
   "execution_count": 10,
   "metadata": {},
   "outputs": [
    {
     "data": {
      "application/vnd.jupyter.widget-view+json": {
       "model_id": "2fe1411a46d34a15882c039b62ae9f3c",
       "version_major": 2,
       "version_minor": 0
      },
      "text/plain": [
       "interactive(children=(BoundedFloatText(value=3.0, description='x [m]:', max=3.0, step=0.5), BoundedFloatText(v…"
      ]
     },
     "metadata": {},
     "output_type": "display_data"
    }
   ],
   "source": [
    "wid = interact(  # Interactive widgets\n",
    "    strain_at_a_value,\n",
    "    x = wgt.BoundedFloatText(value=3, min=0, max=l, step=0.5, description='x [m]:'),\n",
    "    y = wgt.BoundedFloatText(value=-0.3, min=-c, max=c, step=0.1, description='y [m]'),\n",
    "    q = wgt.FloatText(value=-10, description='load [kN/m]:'),\n",
    "    c = wgt. BoundedFloatText(value=0.5, min=0.01, step=0.5, description='h [m]:'),\n",
    "    l = wgt. BoundedFloatText(value=3, min=0.01, step=0.5, description='l [m]:'),\n",
    "    E = wgt. BoundedFloatText(value=21, min=1, step=1, description='E [GPa]:'),\n",
    "    ν = wgt. BoundedFloatText(value=0.23, min=0.01, step=0.01, description='ν [-]:'),\n",
    "    field = wgt.Dropdown(options=['𝜀_xx', '𝜀_yy', '𝜀_zz', '𝜀_xy', '𝜀_1', '𝜀_3', '𝜀_vol', '𝜀_max'],\n",
    "        value='𝜀_xy', description='field:'),\n",
    ")"
   ]
  },
  {
   "cell_type": "markdown",
   "metadata": {},
   "source": [
    "## Relating stresses fields to the shear force and bending moment diagrams"
   ]
  },
  {
   "cell_type": "code",
   "execution_count": 11,
   "metadata": {},
   "outputs": [
    {
     "data": {
      "text/latex": [
       "$\\displaystyle q x$"
      ],
      "text/plain": [
       "q*x"
      ]
     },
     "execution_count": 11,
     "metadata": {},
     "output_type": "execute_result"
    }
   ],
   "source": [
    "# Defining symbols\n",
    "c, q, y, x, z, t, q, L, I = sym.symbols('c q y x z t q L I')\n",
    "\n",
    "# Moment of inertia\n",
    "I = 2*c**3/3\n",
    "# Thickness\n",
    "t = 1"
   ]
  },
  {
   "cell_type": "markdown",
   "metadata": {},
   "source": [
    "### Shear force"
   ]
  },
  {
   "cell_type": "markdown",
   "metadata": {},
   "source": [
    "$$\n",
    "V(x) = \\int_{-c}^c \\int_{0}^t \\tau_{xy}(x,y, z)\\ \\mathrm{d}z\\ \\mathrm{d}y   \n",
    "$$"
   ]
  },
  {
   "cell_type": "code",
   "execution_count": 13,
   "metadata": {},
   "outputs": [
    {
     "data": {
      "text/latex": [
       "$\\displaystyle q x$"
      ],
      "text/plain": [
       "q*x"
      ]
     },
     "execution_count": 13,
     "metadata": {},
     "output_type": "execute_result"
    }
   ],
   "source": [
    "# Shear stress\n",
    "𝜏_xy = - (q / (2 * I)) * (c**2 - y**2) * x\n",
    "\n",
    "# Shear force\n",
    "Vx = -sym.integrate(sym.integrate(𝜏_xy, (z, 0, t)), (y, -c, c))\n",
    "Vx"
   ]
  },
  {
   "cell_type": "markdown",
   "metadata": {},
   "source": [
    "### Bending moment"
   ]
  },
  {
   "cell_type": "markdown",
   "metadata": {},
   "source": [
    "$$\n",
    "M(x) = \\int_{-c}^c \\int_{0}^t y\\sigma_{xx}(x, y, z)\\ \\mathrm{d}z\\ \\mathrm{d}y   \n",
    "$$"
   ]
  },
  {
   "cell_type": "code",
   "execution_count": 12,
   "metadata": {},
   "outputs": [
    {
     "data": {
      "text/latex": [
       "$\\displaystyle - \\frac{L^{2} q}{2} + \\frac{q x^{2}}{2}$"
      ],
      "text/plain": [
       "-L**2*q/2 + q*x**2/2"
      ]
     },
     "execution_count": 12,
     "metadata": {},
     "output_type": "execute_result"
    }
   ],
   "source": [
    "# Stress in x-direction\n",
    "𝜎_xx = -(q / (2 * I)) * (x**2*y - 2*y**3/3 + 2*c**2*y/5 - L**2*y)\n",
    "# Flexural moment\n",
    "Mx = -sym.integrate(sym.integrate(y*𝜎_xx, (z, 0, t)), (y, -c, c))\n",
    "Mx"
   ]
  }
 ],
 "metadata": {
  "kernelspec": {
   "display_name": "Python 3.9.13 64-bit ('solidspy-env')",
   "language": "python",
   "name": "python3"
  },
  "language_info": {
   "codemirror_mode": {
    "name": "ipython",
    "version": 3
   },
   "file_extension": ".py",
   "mimetype": "text/x-python",
   "name": "python",
   "nbconvert_exporter": "python",
   "pygments_lexer": "ipython3",
   "version": "3.9.17"
  },
  "orig_nbformat": 4,
  "vscode": {
   "interpreter": {
    "hash": "42b9ce97befeae958d128bfc8e8137711916479b07e20b35d801ac2885384ad7"
   }
  }
 },
 "nbformat": 4,
 "nbformat_minor": 2
}
